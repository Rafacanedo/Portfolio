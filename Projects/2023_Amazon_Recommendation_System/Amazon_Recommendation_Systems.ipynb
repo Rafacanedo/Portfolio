{
  "cells": [
    {
      "cell_type": "markdown",
      "metadata": {
        "id": "pXQzH0nC5JtP"
      },
      "source": [
        "# **Project: Amazon Product Recommendation System**\n",
        "\n",
        "Welcome to the project on Recommendation Systems. We will work with the Amazon product reviews dataset for this project. The dataset contains ratings of different electronic products. It does not include information about the products or reviews to avoid bias while building the model.\n",
        "\n",
        "--------------\n",
        "## **Context:**\n",
        "--------------\n",
        "\n",
        "Today, information is growing exponentially with volume, velocity and variety throughout the globe. This has lead to information overload, and too many choices for the consumer of any business. It represents a real dilemma for these consumers and they often turn to denial. Recommender Systems are one of the best tools that help recommending products to consumers while they are browsing online. Providing personalized recommendations which is most relevant for the user is what's most likely to keep them engaged and help business.\n",
        "\n",
        "E-commerce websites like Amazon, Walmart, Target and Etsy use different recommendation models to provide personalized suggestions to different users. These companies spend millions of dollars to come up with algorithmic techniques that can provide personalized recommendations to their users.\n",
        "\n",
        "Amazon, for example, is well-known for its accurate selection of recommendations in its online site. Amazon's recommendation system is capable of intelligently analyzing and predicting customers' shopping preferences in order to offer them a list of recommended products. Amazon's recommendation algorithm is therefore a key element in using AI to improve the personalization of its website. For example, one of the baseline recommendation models that Amazon uses is item-to-item collaborative filtering, which scales to massive data sets and produces high-quality recommendations in real-time.\n",
        "\n",
        "----------------\n",
        "## **Objective:**\n",
        "----------------\n",
        "\n",
        "You are a Data Science Manager at Amazon, and have been given the task of building a recommendation system to recommend products to customers based on their previous ratings for other products. You have a collection of labeled data of Amazon reviews of products. The goal is to extract meaningful insights from the data and build a recommendation system that helps in recommending products to online consumers.\n",
        "\n",
        "-----------------------------\n",
        "## **Dataset:**\n",
        "-----------------------------\n",
        "\n",
        "The Amazon dataset contains the following attributes:\n",
        "\n",
        "- **userId:** Every user identified with a unique id\n",
        "- **productId:** Every product identified with a unique id\n",
        "- **Rating:** The rating of the corresponding product by the corresponding user\n",
        "- **timestamp:** Time of the rating. We **will not use this column** to solve the current problem"
      ]
    },
    {
      "cell_type": "markdown",
      "metadata": {
        "id": "nmdPxJ2Q7W7p"
      },
      "source": [
        "**Note:** The code has some user defined functions that will be usefull while making recommendations and measure model performance, you can use these functions or can create your own functions."
      ]
    },
    {
      "cell_type": "markdown",
      "metadata": {
        "id": "UoRfgjS2yekq"
      },
      "source": [
        "Sometimes, the installation of the surprise library, which is used to build recommendation systems, faces issues in Jupyter. To avoid any issues, it is advised to use **Google Colab** for this project.\n",
        "\n",
        "Let's start by mounting the Google drive on Colab."
      ]
    },
    {
      "cell_type": "code",
      "execution_count": null,
      "metadata": {
        "id": "GZ0YAszcT4zK",
        "colab": {
          "base_uri": "https://localhost:8080/"
        },
        "outputId": "c574d8d9-0fcb-4eb9-c09c-427f8d83f942"
      },
      "outputs": [
        {
          "output_type": "stream",
          "name": "stdout",
          "text": [
            "Drive already mounted at /content/drive; to attempt to forcibly remount, call drive.mount(\"/content/drive\", force_remount=True).\n"
          ]
        }
      ],
      "source": [
        "from google.colab import drive\n",
        "drive.mount('/content/drive')"
      ]
    },
    {
      "cell_type": "markdown",
      "metadata": {
        "id": "0Ibk07-Cyekt"
      },
      "source": [
        "**Installing surprise library**"
      ]
    },
    {
      "cell_type": "code",
      "execution_count": null,
      "metadata": {
        "id": "05HQoiZYlsbB",
        "colab": {
          "base_uri": "https://localhost:8080/"
        },
        "outputId": "b70be019-1ae2-465b-f411-ccf240dde9e7"
      },
      "outputs": [
        {
          "output_type": "stream",
          "name": "stdout",
          "text": [
            "Requirement already satisfied: surprise in /usr/local/lib/python3.10/dist-packages (0.1)\n",
            "Requirement already satisfied: scikit-surprise in /usr/local/lib/python3.10/dist-packages (from surprise) (1.1.3)\n",
            "Requirement already satisfied: joblib>=1.0.0 in /usr/local/lib/python3.10/dist-packages (from scikit-surprise->surprise) (1.3.2)\n",
            "Requirement already satisfied: numpy>=1.17.3 in /usr/local/lib/python3.10/dist-packages (from scikit-surprise->surprise) (1.23.5)\n",
            "Requirement already satisfied: scipy>=1.3.2 in /usr/local/lib/python3.10/dist-packages (from scikit-surprise->surprise) (1.11.2)\n"
          ]
        }
      ],
      "source": [
        "!pip install surprise"
      ]
    },
    {
      "cell_type": "markdown",
      "metadata": {
        "id": "7fIt4jcFIm76"
      },
      "source": [
        "## **Importing the necessary libraries and overview of the dataset**"
      ]
    },
    {
      "cell_type": "code",
      "execution_count": null,
      "metadata": {
        "id": "jzu2P-TT5JtP"
      },
      "outputs": [],
      "source": [
        "# Used to ignore the warning given as output of the code\n",
        "import warnings\n",
        "warnings.filterwarnings('ignore')\n",
        "\n",
        "# Libraries of python for numeric and dataframe computations\n",
        "import numpy as np\n",
        "import pandas as pd\n",
        "\n",
        "# Libraries for data visualization\n",
        "import matplotlib.pyplot as plt\n",
        "import seaborn as sns\n",
        "\n",
        "# A dictionary output that does not raise a key error\n",
        "from collections import defaultdict\n",
        "\n",
        "# A performance metrics in sklearn\n",
        "from sklearn.metrics import mean_squared_error"
      ]
    },
    {
      "cell_type": "markdown",
      "metadata": {
        "id": "NrXYJAv95JtP"
      },
      "source": [
        "### **Loading the data**\n",
        "- Import the Dataset\n",
        "- Add column names ['user_id', 'prod_id', 'rating', 'timestamp']\n",
        "- Drop the column timestamp\n",
        "- Copy the data to another DataFrame called **df**"
      ]
    },
    {
      "cell_type": "code",
      "execution_count": null,
      "metadata": {
        "id": "JGb-Hk1B5JtP"
      },
      "outputs": [],
      "source": [
        "#Loading data from drive into a DataFrame\n",
        "data = pd.read_csv('/content/drive/MyDrive/DSML/Recommendation/ratings_Electronics.csv')\n",
        "\n",
        "# Add column names\n",
        "data.columns = ['user_id', 'prod_id', 'rating', 'timestamp']\n",
        "\n",
        "# Drop the 'timestamp' column\n",
        "data.drop('timestamp', axis=1, inplace=True)\n",
        "\n",
        "# Copy the data to another DataFrame called df\n",
        "df = data.copy()"
      ]
    },
    {
      "cell_type": "markdown",
      "metadata": {
        "id": "OVQnSG5g_9uX"
      },
      "source": [
        "**As this dataset is very large and has 7,824,482 observations, it is not computationally possible to build a model using this. Moreover, many users have only rated a few products and also some products are rated by very few users. Hence, we can reduce the dataset by considering certain logical assumptions.**\n",
        "\n",
        "Here, we will be taking users who have given at least 50 ratings, and the products that have at least 5 ratings, as when we shop online we prefer to have some number of ratings of a product."
      ]
    },
    {
      "cell_type": "code",
      "execution_count": null,
      "metadata": {
        "id": "4yt9W7Q32EQQ"
      },
      "outputs": [],
      "source": [
        "# Get the column containing the users\n",
        "users = df.user_id\n",
        "\n",
        "# Create a dictionary from users to their number of ratings\n",
        "ratings_count = dict()\n",
        "\n",
        "for user in users:\n",
        "\n",
        "    # If we already have the user, just add 1 to their rating count\n",
        "    if user in ratings_count:\n",
        "        ratings_count[user] += 1\n",
        "\n",
        "    # Otherwise, set their rating count to 1\n",
        "    else:\n",
        "        ratings_count[user] = 1"
      ]
    },
    {
      "cell_type": "code",
      "execution_count": null,
      "metadata": {
        "id": "19XB60dq2EQR"
      },
      "outputs": [],
      "source": [
        "# We want our users to have at least 50 ratings to be considered\n",
        "RATINGS_CUTOFF = 50\n",
        "\n",
        "remove_users = []\n",
        "\n",
        "for user, num_ratings in ratings_count.items():\n",
        "    if num_ratings < RATINGS_CUTOFF:\n",
        "        remove_users.append(user)\n",
        "\n",
        "df = df.loc[ ~ df.user_id.isin(remove_users)]"
      ]
    },
    {
      "cell_type": "code",
      "execution_count": null,
      "metadata": {
        "id": "33UzK1D82EQS"
      },
      "outputs": [],
      "source": [
        "# Get the column containing the products\n",
        "prods = df.prod_id\n",
        "\n",
        "# Create a dictionary from products to their number of ratings\n",
        "ratings_count = dict()\n",
        "\n",
        "for prod in prods:\n",
        "\n",
        "    # If we already have the product, just add 1 to its rating count\n",
        "    if prod in ratings_count:\n",
        "        ratings_count[prod] += 1\n",
        "\n",
        "    # Otherwise, set their rating count to 1\n",
        "    else:\n",
        "        ratings_count[prod] = 1"
      ]
    },
    {
      "cell_type": "code",
      "execution_count": null,
      "metadata": {
        "id": "u6YE-lUp2EQT"
      },
      "outputs": [],
      "source": [
        "# We want our item to have at least 5 ratings to be considered\n",
        "RATINGS_CUTOFF = 5\n",
        "\n",
        "remove_users = []\n",
        "\n",
        "for user, num_ratings in ratings_count.items():\n",
        "    if num_ratings < RATINGS_CUTOFF:\n",
        "        remove_users.append(user)\n",
        "\n",
        "df_final = df.loc[~ df.prod_id.isin(remove_users)]"
      ]
    },
    {
      "cell_type": "code",
      "execution_count": null,
      "metadata": {
        "id": "aL1JZ00o5JtQ",
        "colab": {
          "base_uri": "https://localhost:8080/",
          "height": 206
        },
        "outputId": "3d6e0ec2-fb4f-4a24-f04e-4d27c6e684ac"
      },
      "outputs": [
        {
          "output_type": "execute_result",
          "data": {
            "text/plain": [
              "             user_id     prod_id  rating\n",
              "1309  A3LDPF5FMB782Z  1400501466     5.0\n",
              "1321  A1A5KUIIIHFF4U  1400501466     1.0\n",
              "1334  A2XIOXRRYX0KZY  1400501466     3.0\n",
              "1450   AW3LX47IHPFRL  1400501466     5.0\n",
              "1455  A1E3OB6QMBKRYZ  1400501466     1.0"
            ],
            "text/html": [
              "\n",
              "  <div id=\"df-9f3ba925-0b0c-4c8a-a10c-37db79208479\" class=\"colab-df-container\">\n",
              "    <div>\n",
              "<style scoped>\n",
              "    .dataframe tbody tr th:only-of-type {\n",
              "        vertical-align: middle;\n",
              "    }\n",
              "\n",
              "    .dataframe tbody tr th {\n",
              "        vertical-align: top;\n",
              "    }\n",
              "\n",
              "    .dataframe thead th {\n",
              "        text-align: right;\n",
              "    }\n",
              "</style>\n",
              "<table border=\"1\" class=\"dataframe\">\n",
              "  <thead>\n",
              "    <tr style=\"text-align: right;\">\n",
              "      <th></th>\n",
              "      <th>user_id</th>\n",
              "      <th>prod_id</th>\n",
              "      <th>rating</th>\n",
              "    </tr>\n",
              "  </thead>\n",
              "  <tbody>\n",
              "    <tr>\n",
              "      <th>1309</th>\n",
              "      <td>A3LDPF5FMB782Z</td>\n",
              "      <td>1400501466</td>\n",
              "      <td>5.0</td>\n",
              "    </tr>\n",
              "    <tr>\n",
              "      <th>1321</th>\n",
              "      <td>A1A5KUIIIHFF4U</td>\n",
              "      <td>1400501466</td>\n",
              "      <td>1.0</td>\n",
              "    </tr>\n",
              "    <tr>\n",
              "      <th>1334</th>\n",
              "      <td>A2XIOXRRYX0KZY</td>\n",
              "      <td>1400501466</td>\n",
              "      <td>3.0</td>\n",
              "    </tr>\n",
              "    <tr>\n",
              "      <th>1450</th>\n",
              "      <td>AW3LX47IHPFRL</td>\n",
              "      <td>1400501466</td>\n",
              "      <td>5.0</td>\n",
              "    </tr>\n",
              "    <tr>\n",
              "      <th>1455</th>\n",
              "      <td>A1E3OB6QMBKRYZ</td>\n",
              "      <td>1400501466</td>\n",
              "      <td>1.0</td>\n",
              "    </tr>\n",
              "  </tbody>\n",
              "</table>\n",
              "</div>\n",
              "    <div class=\"colab-df-buttons\">\n",
              "\n",
              "  <div class=\"colab-df-container\">\n",
              "    <button class=\"colab-df-convert\" onclick=\"convertToInteractive('df-9f3ba925-0b0c-4c8a-a10c-37db79208479')\"\n",
              "            title=\"Convert this dataframe to an interactive table.\"\n",
              "            style=\"display:none;\">\n",
              "\n",
              "  <svg xmlns=\"http://www.w3.org/2000/svg\" height=\"24px\" viewBox=\"0 -960 960 960\">\n",
              "    <path d=\"M120-120v-720h720v720H120Zm60-500h600v-160H180v160Zm220 220h160v-160H400v160Zm0 220h160v-160H400v160ZM180-400h160v-160H180v160Zm440 0h160v-160H620v160ZM180-180h160v-160H180v160Zm440 0h160v-160H620v160Z\"/>\n",
              "  </svg>\n",
              "    </button>\n",
              "\n",
              "  <style>\n",
              "    .colab-df-container {\n",
              "      display:flex;\n",
              "      gap: 12px;\n",
              "    }\n",
              "\n",
              "    .colab-df-convert {\n",
              "      background-color: #E8F0FE;\n",
              "      border: none;\n",
              "      border-radius: 50%;\n",
              "      cursor: pointer;\n",
              "      display: none;\n",
              "      fill: #1967D2;\n",
              "      height: 32px;\n",
              "      padding: 0 0 0 0;\n",
              "      width: 32px;\n",
              "    }\n",
              "\n",
              "    .colab-df-convert:hover {\n",
              "      background-color: #E2EBFA;\n",
              "      box-shadow: 0px 1px 2px rgba(60, 64, 67, 0.3), 0px 1px 3px 1px rgba(60, 64, 67, 0.15);\n",
              "      fill: #174EA6;\n",
              "    }\n",
              "\n",
              "    .colab-df-buttons div {\n",
              "      margin-bottom: 4px;\n",
              "    }\n",
              "\n",
              "    [theme=dark] .colab-df-convert {\n",
              "      background-color: #3B4455;\n",
              "      fill: #D2E3FC;\n",
              "    }\n",
              "\n",
              "    [theme=dark] .colab-df-convert:hover {\n",
              "      background-color: #434B5C;\n",
              "      box-shadow: 0px 1px 3px 1px rgba(0, 0, 0, 0.15);\n",
              "      filter: drop-shadow(0px 1px 2px rgba(0, 0, 0, 0.3));\n",
              "      fill: #FFFFFF;\n",
              "    }\n",
              "  </style>\n",
              "\n",
              "    <script>\n",
              "      const buttonEl =\n",
              "        document.querySelector('#df-9f3ba925-0b0c-4c8a-a10c-37db79208479 button.colab-df-convert');\n",
              "      buttonEl.style.display =\n",
              "        google.colab.kernel.accessAllowed ? 'block' : 'none';\n",
              "\n",
              "      async function convertToInteractive(key) {\n",
              "        const element = document.querySelector('#df-9f3ba925-0b0c-4c8a-a10c-37db79208479');\n",
              "        const dataTable =\n",
              "          await google.colab.kernel.invokeFunction('convertToInteractive',\n",
              "                                                    [key], {});\n",
              "        if (!dataTable) return;\n",
              "\n",
              "        const docLinkHtml = 'Like what you see? Visit the ' +\n",
              "          '<a target=\"_blank\" href=https://colab.research.google.com/notebooks/data_table.ipynb>data table notebook</a>'\n",
              "          + ' to learn more about interactive tables.';\n",
              "        element.innerHTML = '';\n",
              "        dataTable['output_type'] = 'display_data';\n",
              "        await google.colab.output.renderOutput(dataTable, element);\n",
              "        const docLink = document.createElement('div');\n",
              "        docLink.innerHTML = docLinkHtml;\n",
              "        element.appendChild(docLink);\n",
              "      }\n",
              "    </script>\n",
              "  </div>\n",
              "\n",
              "\n",
              "<div id=\"df-f59c9742-b78d-4a1c-8efb-9ed08e6c8d5f\">\n",
              "  <button class=\"colab-df-quickchart\" onclick=\"quickchart('df-f59c9742-b78d-4a1c-8efb-9ed08e6c8d5f')\"\n",
              "            title=\"Suggest charts.\"\n",
              "            style=\"display:none;\">\n",
              "\n",
              "<svg xmlns=\"http://www.w3.org/2000/svg\" height=\"24px\"viewBox=\"0 0 24 24\"\n",
              "     width=\"24px\">\n",
              "    <g>\n",
              "        <path d=\"M19 3H5c-1.1 0-2 .9-2 2v14c0 1.1.9 2 2 2h14c1.1 0 2-.9 2-2V5c0-1.1-.9-2-2-2zM9 17H7v-7h2v7zm4 0h-2V7h2v10zm4 0h-2v-4h2v4z\"/>\n",
              "    </g>\n",
              "</svg>\n",
              "  </button>\n",
              "\n",
              "<style>\n",
              "  .colab-df-quickchart {\n",
              "      --bg-color: #E8F0FE;\n",
              "      --fill-color: #1967D2;\n",
              "      --hover-bg-color: #E2EBFA;\n",
              "      --hover-fill-color: #174EA6;\n",
              "      --disabled-fill-color: #AAA;\n",
              "      --disabled-bg-color: #DDD;\n",
              "  }\n",
              "\n",
              "  [theme=dark] .colab-df-quickchart {\n",
              "      --bg-color: #3B4455;\n",
              "      --fill-color: #D2E3FC;\n",
              "      --hover-bg-color: #434B5C;\n",
              "      --hover-fill-color: #FFFFFF;\n",
              "      --disabled-bg-color: #3B4455;\n",
              "      --disabled-fill-color: #666;\n",
              "  }\n",
              "\n",
              "  .colab-df-quickchart {\n",
              "    background-color: var(--bg-color);\n",
              "    border: none;\n",
              "    border-radius: 50%;\n",
              "    cursor: pointer;\n",
              "    display: none;\n",
              "    fill: var(--fill-color);\n",
              "    height: 32px;\n",
              "    padding: 0;\n",
              "    width: 32px;\n",
              "  }\n",
              "\n",
              "  .colab-df-quickchart:hover {\n",
              "    background-color: var(--hover-bg-color);\n",
              "    box-shadow: 0 1px 2px rgba(60, 64, 67, 0.3), 0 1px 3px 1px rgba(60, 64, 67, 0.15);\n",
              "    fill: var(--button-hover-fill-color);\n",
              "  }\n",
              "\n",
              "  .colab-df-quickchart-complete:disabled,\n",
              "  .colab-df-quickchart-complete:disabled:hover {\n",
              "    background-color: var(--disabled-bg-color);\n",
              "    fill: var(--disabled-fill-color);\n",
              "    box-shadow: none;\n",
              "  }\n",
              "\n",
              "  .colab-df-spinner {\n",
              "    border: 2px solid var(--fill-color);\n",
              "    border-color: transparent;\n",
              "    border-bottom-color: var(--fill-color);\n",
              "    animation:\n",
              "      spin 1s steps(1) infinite;\n",
              "  }\n",
              "\n",
              "  @keyframes spin {\n",
              "    0% {\n",
              "      border-color: transparent;\n",
              "      border-bottom-color: var(--fill-color);\n",
              "      border-left-color: var(--fill-color);\n",
              "    }\n",
              "    20% {\n",
              "      border-color: transparent;\n",
              "      border-left-color: var(--fill-color);\n",
              "      border-top-color: var(--fill-color);\n",
              "    }\n",
              "    30% {\n",
              "      border-color: transparent;\n",
              "      border-left-color: var(--fill-color);\n",
              "      border-top-color: var(--fill-color);\n",
              "      border-right-color: var(--fill-color);\n",
              "    }\n",
              "    40% {\n",
              "      border-color: transparent;\n",
              "      border-right-color: var(--fill-color);\n",
              "      border-top-color: var(--fill-color);\n",
              "    }\n",
              "    60% {\n",
              "      border-color: transparent;\n",
              "      border-right-color: var(--fill-color);\n",
              "    }\n",
              "    80% {\n",
              "      border-color: transparent;\n",
              "      border-right-color: var(--fill-color);\n",
              "      border-bottom-color: var(--fill-color);\n",
              "    }\n",
              "    90% {\n",
              "      border-color: transparent;\n",
              "      border-bottom-color: var(--fill-color);\n",
              "    }\n",
              "  }\n",
              "</style>\n",
              "\n",
              "  <script>\n",
              "    async function quickchart(key) {\n",
              "      const quickchartButtonEl =\n",
              "        document.querySelector('#' + key + ' button');\n",
              "      quickchartButtonEl.disabled = true;  // To prevent multiple clicks.\n",
              "      quickchartButtonEl.classList.add('colab-df-spinner');\n",
              "      try {\n",
              "        const charts = await google.colab.kernel.invokeFunction(\n",
              "            'suggestCharts', [key], {});\n",
              "      } catch (error) {\n",
              "        console.error('Error during call to suggestCharts:', error);\n",
              "      }\n",
              "      quickchartButtonEl.classList.remove('colab-df-spinner');\n",
              "      quickchartButtonEl.classList.add('colab-df-quickchart-complete');\n",
              "    }\n",
              "    (() => {\n",
              "      let quickchartButtonEl =\n",
              "        document.querySelector('#df-f59c9742-b78d-4a1c-8efb-9ed08e6c8d5f button');\n",
              "      quickchartButtonEl.style.display =\n",
              "        google.colab.kernel.accessAllowed ? 'block' : 'none';\n",
              "    })();\n",
              "  </script>\n",
              "</div>\n",
              "    </div>\n",
              "  </div>\n"
            ]
          },
          "metadata": {},
          "execution_count": 108
        }
      ],
      "source": [
        "# Print a few rows of the imported dataset\n",
        "df_final.head()"
      ]
    },
    {
      "cell_type": "markdown",
      "metadata": {
        "id": "GuPoy_XfxhXZ"
      },
      "source": [
        "## **Exploratory Data Analysis**"
      ]
    },
    {
      "cell_type": "markdown",
      "metadata": {
        "id": "s0d0bWeG-sVB"
      },
      "source": [
        "### **Shape of the data**"
      ]
    },
    {
      "cell_type": "markdown",
      "metadata": {
        "id": "qyBVTRDTyek0"
      },
      "source": [
        "### **Check the number of rows and columns and provide observations.**"
      ]
    },
    {
      "cell_type": "code",
      "execution_count": null,
      "metadata": {
        "id": "fJ4eQKaY5JtQ",
        "colab": {
          "base_uri": "https://localhost:8080/"
        },
        "outputId": "eead21f2-782d-49f9-9f15-8ad0cc00bade"
      },
      "outputs": [
        {
          "output_type": "stream",
          "name": "stdout",
          "text": [
            "Number of rows: 65290\n",
            "Number of columns: 3\n"
          ]
        }
      ],
      "source": [
        "# Check the number of rows and columns and provide observations\n",
        "\n",
        "num_rows, num_columns = df_final.shape\n",
        "\n",
        "# Print the results\n",
        "print(f\"Number of rows: {num_rows}\")\n",
        "print(f\"Number of columns: {num_columns}\")"
      ]
    },
    {
      "cell_type": "markdown",
      "metadata": {
        "id": "Slp-fgWQ-sVD"
      },
      "source": [
        "**Observations:**\n",
        "\n",
        "The number of rows indicates the total number of records or data points in our dataset.\n",
        "Originally we had 7,824,482 records and now we dropped to 65,290 records that fits our restrictions.\n",
        "\n",
        "The number of columns represents the features or variables present in our dataset. We are going to be working with 3 features.\n"
      ]
    },
    {
      "cell_type": "markdown",
      "metadata": {
        "id": "lAMWm0nC-sVF"
      },
      "source": [
        "### **Data types**"
      ]
    },
    {
      "cell_type": "code",
      "execution_count": null,
      "metadata": {
        "id": "SVrgMkye5JtQ",
        "colab": {
          "base_uri": "https://localhost:8080/"
        },
        "outputId": "cc3d01d5-fde7-487d-e681-84564c285dce"
      },
      "outputs": [
        {
          "output_type": "stream",
          "name": "stdout",
          "text": [
            "user_id     object\n",
            "prod_id     object\n",
            "rating     float64\n",
            "dtype: object\n"
          ]
        }
      ],
      "source": [
        "# Check Data types and provide observations\n",
        "print(df_final.dtypes)"
      ]
    },
    {
      "cell_type": "markdown",
      "metadata": {
        "id": "z4fOE02D-sVF"
      },
      "source": [
        "**Observations:**\n",
        "user_id and prod_id are represented as an 'object' data type, the values here are string.\n",
        "The 'rating' column is represented as 'float64', numeric values, for storing the ratings."
      ]
    },
    {
      "cell_type": "markdown",
      "metadata": {
        "id": "lTMpOROT-sVG"
      },
      "source": [
        "### **Checking for missing values**"
      ]
    },
    {
      "cell_type": "code",
      "execution_count": null,
      "metadata": {
        "id": "vt-VEjMA5JtQ",
        "colab": {
          "base_uri": "https://localhost:8080/"
        },
        "outputId": "0109dce1-37ff-470f-dc1f-0d24b90f2eb3"
      },
      "outputs": [
        {
          "output_type": "stream",
          "name": "stdout",
          "text": [
            "user_id    0\n",
            "prod_id    0\n",
            "rating     0\n",
            "dtype: int64\n"
          ]
        }
      ],
      "source": [
        "# Check for missing values present and provide observations\n",
        "print(df_final.isnull().sum())"
      ]
    },
    {
      "cell_type": "markdown",
      "metadata": {
        "id": "qMWuBNhI5JtR"
      },
      "source": [
        "**Observations:**\n",
        "\n",
        "No missing values on the data, awesome!\n"
      ]
    },
    {
      "cell_type": "markdown",
      "metadata": {
        "id": "wETrCg48-sVG"
      },
      "source": [
        "### **Summary Statistics**"
      ]
    },
    {
      "cell_type": "code",
      "execution_count": null,
      "metadata": {
        "id": "tYm30MXR5JtR",
        "colab": {
          "base_uri": "https://localhost:8080/"
        },
        "outputId": "59206ab8-31b3-4e69-8ff7-b896723832c9"
      },
      "outputs": [
        {
          "output_type": "stream",
          "name": "stdout",
          "text": [
            "count    65290.000000\n",
            "mean         4.294808\n",
            "std          0.988915\n",
            "min          1.000000\n",
            "25%          4.000000\n",
            "50%          5.000000\n",
            "75%          5.000000\n",
            "max          5.000000\n",
            "Name: rating, dtype: float64\n"
          ]
        }
      ],
      "source": [
        "# Summary statistics of 'rating' variable and provide observations\n",
        "print(df_final['rating'].describe())"
      ]
    },
    {
      "cell_type": "markdown",
      "metadata": {
        "id": "VqW50EIJxhXc"
      },
      "source": [
        "**Observations:**\n",
        "The mean is close to 4.29. Which means that users tend to give ratings over 4.\n",
        "The 25 percentile indicates onl 25% of the ratings were 4 or lower. The median rating is 5 and the 75 percetile is all 5 ratings."
      ]
    },
    {
      "cell_type": "markdown",
      "metadata": {
        "id": "ywyFrZIf5JtR"
      },
      "source": [
        "### **Checking the rating distribution**"
      ]
    },
    {
      "cell_type": "code",
      "execution_count": null,
      "metadata": {
        "id": "QbqhbEVe-sVH",
        "colab": {
          "base_uri": "https://localhost:8080/",
          "height": 572
        },
        "outputId": "ab4a6507-dc52-4a2c-ad78-fa0ece7a3714"
      },
      "outputs": [
        {
          "output_type": "display_data",
          "data": {
            "text/plain": [
              "<Figure size 800x600 with 1 Axes>"
            ],
            "image/png": "[encoded data removed]"
          },
          "metadata": {}
        }
      ],
      "source": [
        "# Create the bar plot and provide observations\n",
        "\n",
        "# Bar plot of the 'rating' variable\n",
        "plt.figure(figsize=(8, 6))\n",
        "df_final['rating'].value_counts().sort_index().plot(kind='bar')\n",
        "plt.xlabel('Rating')\n",
        "plt.ylabel('Count')\n",
        "plt.title('Distribution of Ratings')\n",
        "plt.show()\n"
      ]
    },
    {
      "cell_type": "markdown",
      "metadata": {
        "id": "t0jONrQv-sVH"
      },
      "source": [
        "**Observations:**\n",
        "The barplot illustrates previous observations. most ratings are 5."
      ]
    },
    {
      "cell_type": "markdown",
      "metadata": {
        "id": "HefpLdLJxhXd"
      },
      "source": [
        "### **Checking the number of unique users and items in the dataset**"
      ]
    },
    {
      "cell_type": "code",
      "execution_count": null,
      "metadata": {
        "id": "NbSom7195JtR",
        "colab": {
          "base_uri": "https://localhost:8080/"
        },
        "outputId": "b9f40cd8-3d52-467d-c64d-36ba7869b4e1"
      },
      "outputs": [
        {
          "output_type": "stream",
          "name": "stdout",
          "text": [
            "Number of total rows in the data: 65290\n",
            "Number of unique user IDs: 1540\n",
            "Number of unique product IDs: 5689\n"
          ]
        }
      ],
      "source": [
        "# Number of total rows in the data and number of unique user id and product id in the data\n",
        "\n",
        "# Number of total rows in the data\n",
        "total_rows = len(df_final)\n",
        "\n",
        "# Number of unique user IDs\n",
        "unique_user_ids = df_final['user_id'].nunique()\n",
        "\n",
        "# Number of unique product IDs\n",
        "unique_product_ids = df_final['prod_id'].nunique()\n",
        "\n",
        "# Print the results\n",
        "print(f\"Number of total rows in the data: {total_rows}\")\n",
        "print(f\"Number of unique user IDs: {unique_user_ids}\")\n",
        "print(f\"Number of unique product IDs: {unique_product_ids}\")"
      ]
    },
    {
      "cell_type": "markdown",
      "metadata": {
        "id": "Qwgz6CUt-sVI"
      },
      "source": [
        "****\n",
        "The data has 65290 observations. They come from 1540 users and contains their ratings for 5689 unique products"
      ]
    },
    {
      "cell_type": "markdown",
      "metadata": {
        "id": "RfDnhSS4-sVI"
      },
      "source": [
        "### **Users with the most number of ratings**"
      ]
    },
    {
      "cell_type": "code",
      "execution_count": null,
      "metadata": {
        "id": "n7MX452q5JtR",
        "colab": {
          "base_uri": "https://localhost:8080/"
        },
        "outputId": "9ba682b6-773a-443c-a022-5b308e4fb59b"
      },
      "outputs": [
        {
          "output_type": "stream",
          "name": "stdout",
          "text": [
            "Top 10 users based on the number of ratings:\n",
            "user_id\n",
            "ADLVFFE4VBT8      295\n",
            "A3OXHLG6DIBRW8    230\n",
            "A1ODOGXEYECQQ8    217\n",
            "A36K2N527TXXJN    212\n",
            "A25C2M3QF9G7OQ    203\n",
            "A680RUE1FDO8B     196\n",
            "A22CW0ZHY3NJH8    193\n",
            "A1UQBFCERIP7VJ    193\n",
            "AWPODHOB4GFWL     184\n",
            "A3LGT6UZL99IW1    179\n",
            "Name: rating, dtype: int64\n"
          ]
        }
      ],
      "source": [
        "# Top 10 users based on the number of ratings\n",
        "\n",
        "# Group the data by 'user_id' and count the number of ratings for each user\n",
        "user_ratings_count = df_final.groupby('user_id')['rating'].count()\n",
        "\n",
        "# Sort the users by the number of ratings in descending order\n",
        "top_10_users = user_ratings_count.sort_values(ascending=False).head(10)\n",
        "\n",
        "# Print the top 10 users\n",
        "print(\"Top 10 users based on the number of ratings:\")\n",
        "print(top_10_users)\n"
      ]
    },
    {
      "cell_type": "markdown",
      "metadata": {
        "id": "1X2w_jt9-sVI"
      },
      "source": [
        "**Observations:**\n",
        "\n",
        "These are the users that hae given more rating. They can be considered higly engajed users."
      ]
    },
    {
      "cell_type": "markdown",
      "metadata": {
        "id": "EnYTx-Ol-sVg"
      },
      "source": [
        "# **Now that we have explored and prepared the data, let's build the first recommendation system.**"
      ]
    },
    {
      "cell_type": "markdown",
      "metadata": {
        "id": "6xYGrGVy5JtS"
      },
      "source": [
        "## **Model 1: Rank Based Recommendation System**"
      ]
    },
    {
      "cell_type": "code",
      "execution_count": null,
      "metadata": {
        "id": "yxZTj1UPxhXh",
        "scrolled": true,
        "colab": {
          "base_uri": "https://localhost:8080/"
        },
        "outputId": "43ec1af0-aeb4-43da-93df-f4d8cca299f4"
      },
      "outputs": [
        {
          "output_type": "stream",
          "name": "stdout",
          "text": [
            "            Average_Rating  Rating_Count\n",
            "prod_id                                 \n",
            "B000FQ2JLW             5.0            19\n",
            "B00ISFNSBW             5.0            18\n",
            "B000IJY8DS             5.0            17\n",
            "B001TH7GUA             5.0            17\n",
            "B00HZWJGS8             5.0            17\n"
          ]
        }
      ],
      "source": [
        "# Calculate the average rating for each product\n",
        "average_rating = df_final.groupby('prod_id')['rating'].mean()\n",
        "\n",
        "# Calculate the count of ratings for each product\n",
        "rating_count = df_final.groupby('prod_id')['rating'].count()\n",
        "\n",
        "# Create a dataframe with calculated average and count of ratings\n",
        "final_rating = pd.DataFrame({'Average_Rating': average_rating, 'Rating_Count': rating_count})\n",
        "\n",
        "# Sort the dataframe by average of ratings in the descending order\n",
        "final_rating = final_rating.sort_values(by=['Average_Rating','Rating_Count'], ascending=False)\n",
        "\n",
        "# See the first five records of the \"final_rating\" dataset\n",
        "print(final_rating.head())\n"
      ]
    },
    {
      "cell_type": "code",
      "execution_count": null,
      "metadata": {
        "id": "zKU__5s1xhXi",
        "colab": {
          "base_uri": "https://localhost:8080/"
        },
        "outputId": "97904d66-49c5-4bf4-f33e-56fee8ca9795"
      },
      "outputs": [
        {
          "output_type": "stream",
          "name": "stdout",
          "text": [
            "            Average_Rating  Rating_Count\n",
            "prod_id                                 \n",
            "B00L3YHF6O             5.0            14\n",
            "B00HG1L334             5.0            16\n",
            "B001TH7GUA             5.0            17\n",
            "B00C20KWP4             5.0            10\n",
            "B004Y1AYAC             5.0            11\n",
            "B00BLCVD9I             5.0            11\n",
            "B0058G40O8             5.0            12\n",
            "B00FZ9SMVU             5.0            10\n",
            "B005GI2VMG             5.0            10\n",
            "B0000B006W             5.0            12\n"
          ]
        }
      ],
      "source": [
        "# Defining a function to get the top n products based on the highest average rating and minimum interactions\n",
        "# Finding products with minimum number of interactions\n",
        "# Sorting values with respect to average rating\n",
        "\n",
        "def get_top_n_products(df, n=10, min_interactions=10):\n",
        "    \"\"\"\n",
        "    Get the top n products based on the highest average rating and minimum interactions.\n",
        "\n",
        "    Args:\n",
        "    - df: DataFrame containing product ratings and information.\n",
        "    - n: Number of top products to retrieve (default is 10).\n",
        "    - min_interactions: Minimum number of interactions a product should have to be considered (default is 10).\n",
        "\n",
        "    Returns:\n",
        "    - top_products: DataFrame containing the top n products based on the criteria.\n",
        "    \"\"\"\n",
        "    # Calculate the average rating for each product\n",
        "    average_rating = df.groupby('prod_id')['rating'].mean()\n",
        "\n",
        "    # Calculate the count of ratings for each product\n",
        "    rating_count = df.groupby('prod_id')['rating'].count()\n",
        "\n",
        "    # Create a DataFrame with average and count of ratings\n",
        "    final_rating = pd.DataFrame({'Average_Rating': average_rating, 'Rating_Count': rating_count})\n",
        "\n",
        "    # Filter products with minimum interactions\n",
        "    final_rating = final_rating[final_rating['Rating_Count'] >= min_interactions]\n",
        "\n",
        "    # Sort the DataFrame by average rating in descending order\n",
        "    final_rating = final_rating.sort_values(by='Average_Rating', ascending=False)\n",
        "\n",
        "    # Get the top n products\n",
        "    top_products = final_rating.head(n)\n",
        "\n",
        "    return top_products\n",
        "\n",
        "# Example usage:\n",
        "top_n_products = get_top_n_products(df_final, n=10, min_interactions=10)\n",
        "print(top_n_products)\n"
      ]
    },
    {
      "cell_type": "markdown",
      "metadata": {
        "id": "F8l6373PxhXi"
      },
      "source": [
        "### **Recommending top 5 products with 50 minimum interactions based on popularity**"
      ]
    },
    {
      "cell_type": "code",
      "execution_count": null,
      "metadata": {
        "id": "dBxdLiM_xhXi",
        "colab": {
          "base_uri": "https://localhost:8080/"
        },
        "outputId": "b72b9da8-a7cd-41e0-9952-a5e92ff82bd4"
      },
      "outputs": [
        {
          "output_type": "stream",
          "name": "stdout",
          "text": [
            "Top 5 Popular Products with at Least 50 Interactions:\n",
            "            Average_Rating  Rating_Count\n",
            "prod_id                                 \n",
            "B001TH7GUU        4.871795            78\n",
            "B003ES5ZUU        4.864130           184\n",
            "B0019EHU8G        4.855556            90\n",
            "B006W8U2MU        4.824561            57\n",
            "B000QUUFRW        4.809524            84\n"
          ]
        }
      ],
      "source": [
        "# Use the get_top_n_products function to recommend top 5 products with a minimum of 50 interactions\n",
        "top_5_popular_products = get_top_n_products(df_final, n=5, min_interactions=50)\n",
        "\n",
        "# Print the top 5 popular products\n",
        "print(\"Top 5 Popular Products with at Least 50 Interactions:\")\n",
        "print(top_5_popular_products)"
      ]
    },
    {
      "cell_type": "markdown",
      "metadata": {
        "id": "l9_xW_UMxhXj"
      },
      "source": [
        "### **Recommending top 5 products with 100 minimum interactions based on popularity**"
      ]
    },
    {
      "cell_type": "code",
      "execution_count": null,
      "metadata": {
        "id": "dZgGZCUoxhXj",
        "colab": {
          "base_uri": "https://localhost:8080/"
        },
        "outputId": "91b982d0-210a-41e3-dd49-5e1e2af2c5da"
      },
      "outputs": [
        {
          "output_type": "stream",
          "name": "stdout",
          "text": [
            "Top 5 Popular Products with at Least 100 Interactions:\n",
            "            Average_Rating  Rating_Count\n",
            "prod_id                                 \n",
            "B003ES5ZUU        4.864130           184\n",
            "B000N99BBC        4.772455           167\n",
            "B002WE6D44        4.770000           100\n",
            "B007WTAJTO        4.701220           164\n",
            "B002V88HFE        4.698113           106\n"
          ]
        }
      ],
      "source": [
        "# Use the get_top_n_products function to recommend top 5 products with a minimum of 100 interactions\n",
        "top_5_popular_products = get_top_n_products(df_final, n=5, min_interactions=100)\n",
        "\n",
        "# Print the top 5 popular products\n",
        "print(\"Top 5 Popular Products with at Least 100 Interactions:\")\n",
        "print(top_5_popular_products)"
      ]
    },
    {
      "cell_type": "markdown",
      "metadata": {
        "id": "BL-m68a15JtT",
        "outputId": "69132b0f-8d3f-4798-f6a0-249e17a3c822"
      },
      "source": [
        "We have recommended the **top 5** products by using the popularity recommendation system. Now, let's build a recommendation system using **collaborative filtering.**"
      ]
    },
    {
      "cell_type": "markdown",
      "metadata": {
        "id": "sJI5kiiGvOOK"
      },
      "source": [
        "## **Model 2: Collaborative Filtering Recommendation System**"
      ]
    },
    {
      "cell_type": "markdown",
      "metadata": {
        "id": "skzc0N1_nVNB"
      },
      "source": [
        "### **Building a baseline user-user similarity based recommendation system**"
      ]
    },
    {
      "cell_type": "markdown",
      "metadata": {
        "id": "d4Uo_MYMnVNB"
      },
      "source": [
        "- Below, we are building **similarity-based recommendation systems** using `cosine` similarity and using **KNN to find similar users** which are the nearest neighbor to the given user.  \n",
        "- We will be using a new library, called `surprise`, to build the remaining models. Let's first import the necessary classes and functions from this library."
      ]
    },
    {
      "cell_type": "code",
      "execution_count": null,
      "metadata": {
        "id": "UJ1wEylUpexj"
      },
      "outputs": [],
      "source": [
        "# To compute the accuracy of models\n",
        "from surprise import accuracy\n",
        "\n",
        "# Class is used to parse a file containing ratings, data should be in structure - user ; item ; rating\n",
        "from surprise.reader import Reader\n",
        "\n",
        "# Class for loading datasets\n",
        "from surprise.dataset import Dataset\n",
        "\n",
        "# For tuning model hyperparameters\n",
        "from surprise.model_selection import GridSearchCV\n",
        "\n",
        "# For splitting the rating data in train and test datasets\n",
        "from surprise.model_selection import train_test_split\n",
        "\n",
        "# For implementing similarity-based recommendation system\n",
        "from surprise.prediction_algorithms.knns import KNNBasic\n",
        "\n",
        "# For implementing matrix factorization based recommendation system\n",
        "from surprise.prediction_algorithms.matrix_factorization import SVD\n",
        "\n",
        "# for implementing K-Fold cross-validation\n",
        "from surprise.model_selection import KFold\n",
        "\n",
        "# For implementing clustering-based recommendation system\n",
        "from surprise import CoClustering"
      ]
    },
    {
      "cell_type": "markdown",
      "metadata": {
        "id": "54MqVAtDTsnl"
      },
      "source": [
        "**Before building the recommendation systems, let's  go over some basic terminologies we are going to use:**"
      ]
    },
    {
      "cell_type": "markdown",
      "metadata": {
        "id": "Qsxb3xhnTsnl"
      },
      "source": [
        "**Relevant item:** An item (product in this case) that is actually **rated higher than the threshold rating** is relevant, if the **actual rating is below the threshold then it is a non-relevant item**.  \n",
        "\n",
        "**Recommended item:** An item that's **predicted rating is higher than the threshold is a recommended item**, if the **predicted rating is below the threshold then that product will not be recommended to the user**.  \n"
      ]
    },
    {
      "cell_type": "markdown",
      "metadata": {
        "id": "moyLUHCuTsnl"
      },
      "source": [
        "**False Negative (FN):** It is the **frequency of relevant items that are not recommended to the user**. If the relevant items are not recommended to the user, then the user might not buy the product/item. This would result in the **loss of opportunity for the service provider**, which they would like to minimize.\n",
        "\n",
        "**False Positive (FP):** It is the **frequency of recommended items that are actually not relevant**. In this case, the recommendation system is not doing a good job of finding and recommending the relevant items to the user. This would result in **loss of resources for the service provider**, which they would also like to minimize."
      ]
    },
    {
      "cell_type": "markdown",
      "metadata": {
        "id": "Yuvc2VaZTsnl"
      },
      "source": [
        "**Recall:** It is the **fraction of actually relevant items that are recommended to the user**, i.e., if out of 10 relevant products, 6 are recommended to the user then recall is 0.60. Higher the value of recall better is the model. It is one of the metrics to do the performance assessment of classification models.\n",
        "\n",
        "**Precision:** It is the **fraction of recommended items that are relevant actually**, i.e., if out of 10 recommended items, 6 are found relevant by the user then precision is 0.60. The higher the value of precision better is the model. It is one of the metrics to do the performance assessment of classification models."
      ]
    },
    {
      "cell_type": "markdown",
      "metadata": {
        "id": "8NLc36Y8Tsnm"
      },
      "source": [
        "**While making a recommendation system, it becomes customary to look at the performance of the model. In terms of how many recommendations are relevant and vice-versa, below are some most used performance metrics used in the assessment of recommendation systems.**"
      ]
    },
    {
      "cell_type": "markdown",
      "metadata": {
        "id": "cqF8fRBqTsnm"
      },
      "source": [
        "### **Precision@k, Recall@ k, and F1-score@k**"
      ]
    },
    {
      "cell_type": "markdown",
      "metadata": {
        "id": "imMJNF0HTsnm"
      },
      "source": [
        "**Precision@k** - It is the **fraction of recommended items that are relevant in `top k` predictions**. The value of k is the number of recommendations to be provided to the user. One can choose a variable number of recommendations to be given to a unique user.  \n",
        "\n",
        "\n",
        "**Recall@k** - It is the **fraction of relevant items that are recommended to the user in `top k` predictions**.\n",
        "\n",
        "**F1-score@k** - It is the **harmonic mean of Precision@k and Recall@k**. When **precision@k and recall@k both seem to be important** then it is useful to use this metric because it is representative of both of them."
      ]
    },
    {
      "cell_type": "markdown",
      "metadata": {
        "id": "jBW4BUhWTsnm"
      },
      "source": [
        "### **Some useful functions**"
      ]
    },
    {
      "cell_type": "markdown",
      "metadata": {
        "id": "QOBHKh0eTsnm"
      },
      "source": [
        "- Below function takes the **recommendation model** as input and gives the **precision@k, recall@k, and F1-score@k** for that model.  \n",
        "- To compute **precision and recall**, **top k** predictions are taken under consideration for each user.\n",
        "- We will use the precision and recall to compute the F1-score."
      ]
    },
    {
      "cell_type": "code",
      "execution_count": null,
      "metadata": {
        "id": "Rxn-GahOTsnm"
      },
      "outputs": [],
      "source": [
        "def precision_recall_at_k(model, k = 10, threshold = 3.5):\n",
        "    \"\"\"Return precision and recall at k metrics for each user\"\"\"\n",
        "\n",
        "    # First map the predictions to each user\n",
        "    user_est_true = defaultdict(list)\n",
        "\n",
        "    # Making predictions on the test data\n",
        "    predictions = model.test(testset)\n",
        "\n",
        "    for uid, _, true_r, est, _ in predictions:\n",
        "        user_est_true[uid].append((est, true_r))\n",
        "\n",
        "    precisions = dict()\n",
        "    recalls = dict()\n",
        "    for uid, user_ratings in user_est_true.items():\n",
        "\n",
        "        # Sort user ratings by estimated value\n",
        "        user_ratings.sort(key = lambda x: x[0], reverse = True)\n",
        "\n",
        "        # Number of relevant items\n",
        "        n_rel = sum((true_r >= threshold) for (_, true_r) in user_ratings)\n",
        "\n",
        "        # Number of recommended items in top k\n",
        "        n_rec_k = sum((est >= threshold) for (est, _) in user_ratings[:k])\n",
        "\n",
        "        # Number of relevant and recommended items in top k\n",
        "        n_rel_and_rec_k = sum(((true_r >= threshold) and (est >= threshold))\n",
        "                              for (est, true_r) in user_ratings[:k])\n",
        "\n",
        "        # Precision@K: Proportion of recommended items that are relevant\n",
        "        # When n_rec_k is 0, Precision is undefined. Therefore, we are setting Precision to 0 when n_rec_k is 0\n",
        "\n",
        "        precisions[uid] = n_rel_and_rec_k / n_rec_k if n_rec_k != 0 else 0\n",
        "\n",
        "        # Recall@K: Proportion of relevant items that are recommended\n",
        "        # When n_rel is 0, Recall is undefined. Therefore, we are setting Recall to 0 when n_rel is 0\n",
        "\n",
        "        recalls[uid] = n_rel_and_rec_k / n_rel if n_rel != 0 else 0\n",
        "\n",
        "    # Mean of all the predicted precisions are calculated.\n",
        "    precision = round((sum(prec for prec in precisions.values()) / len(precisions)), 3)\n",
        "\n",
        "    # Mean of all the predicted recalls are calculated.\n",
        "    recall = round((sum(rec for rec in recalls.values()) / len(recalls)), 3)\n",
        "\n",
        "    accuracy.rmse(predictions)\n",
        "\n",
        "    print('Precision: ', precision) # Command to print the overall precision\n",
        "\n",
        "    print('Recall: ', recall) # Command to print the overall recall\n",
        "\n",
        "    print('F_1 score: ', round((2*precision*recall)/(precision+recall), 3)) # Formula to compute the F-1 score"
      ]
    },
    {
      "cell_type": "markdown",
      "metadata": {
        "id": "_ZmsamDVyek-"
      },
      "source": [
        "**Hints:**\n",
        "\n",
        "- To compute **precision and recall**, a **threshold of 3.5 and k value of 10 can be considered for the recommended and relevant ratings**.\n",
        "- Think about the performance metric to choose."
      ]
    },
    {
      "cell_type": "markdown",
      "metadata": {
        "id": "8hxjJMTwnVNB"
      },
      "source": [
        "Below we are loading the **`rating` dataset**, which is a **pandas DataFrame**, into a **different format called `surprise.dataset.DatasetAutoFolds`**, which is required by this library. To do this, we will be **using the classes `Reader` and `Dataset`.**"
      ]
    },
    {
      "cell_type": "code",
      "execution_count": null,
      "metadata": {
        "id": "rGfYDiOCpe4X"
      },
      "outputs": [],
      "source": [
        "# Instantiating Reader scale with expected rating scale\n",
        "\n",
        "# Define the rating scale (1 to 5 in your case)\n",
        "reader = Reader(rating_scale=(1, 5))\n",
        "\n",
        "# Loading the rating dataset\n",
        "\n",
        "# Load the dataset from a Pandas DataFrame\n",
        "data = Dataset.load_from_df(df_final[['user_id', 'prod_id', 'rating']], reader)\n",
        "\n",
        "# Splitting the data into train and test datasets\n",
        "# (80% train, 20% test)\n",
        "\n",
        "trainset, testset = train_test_split(data, test_size=0.2, random_state=42)"
      ]
    },
    {
      "cell_type": "markdown",
      "metadata": {
        "id": "DmHTEt7TnVNC"
      },
      "source": [
        "Now, we are **ready to build the first baseline similarity-based recommendation system** using the cosine similarity."
      ]
    },
    {
      "cell_type": "markdown",
      "metadata": {
        "id": "SVDfVHB4tQfU"
      },
      "source": [
        "### **Building the user-user Similarity-based Recommendation System**"
      ]
    },
    {
      "cell_type": "code",
      "execution_count": null,
      "metadata": {
        "id": "vO3FL7iape8A",
        "scrolled": false,
        "colab": {
          "base_uri": "https://localhost:8080/"
        },
        "outputId": "0e969ae7-4a3b-4756-8391-7b1de3d9ca7a"
      },
      "outputs": [
        {
          "output_type": "stream",
          "name": "stdout",
          "text": [
            "RMSE: 1.0012\n",
            "Precision:  0.855\n",
            "Recall:  0.858\n",
            "F_1 score:  0.856\n"
          ]
        }
      ],
      "source": [
        "# Declaring the similarity options\n",
        "sim_options = {\n",
        "    'name': 'cosine',\n",
        "    'user_based': True  # User-User similarity\n",
        "}\n",
        "\n",
        "# Initialize the KNNBasic model using sim_options declared, Verbose = False, and setting random_state = 1\n",
        "user_user_model = KNNBasic(sim_options=sim_options, verbose=False, random_state=1)\n",
        "\n",
        "# Fit the model on the training data\n",
        "user_user_model.fit(trainset)\n",
        "\n",
        "# Let us compute precision@k, recall@k, and f_1 score using the precision_recall_at_k function defined above\n",
        "precision_recall_at_k(user_user_model, k=10, threshold=3.5)"
      ]
    },
    {
      "cell_type": "markdown",
      "metadata": {
        "id": "nEuJK_A9Tsnn"
      },
      "source": [
        "**Observations bold text:__________**\n",
        "\n",
        "The model with cosine similarity performs reasonably well. It achieves a good balance between precision and recall while maintaining a relatively low RMSE value, indicating that it provides relevant recommendations to users while accurately predicting user ratings."
      ]
    },
    {
      "cell_type": "markdown",
      "metadata": {
        "id": "reFD0-nsnVNC"
      },
      "source": [
        "Let's now **predict rating for a user with `userId=A3LDPF5FMB782Z` and `productId=1400501466`** as shown below. Here the user has already interacted or watched the product with productId '1400501466' and given a rating of 5."
      ]
    },
    {
      "cell_type": "code",
      "execution_count": null,
      "metadata": {
        "id": "Sxd23bZ9pe_x",
        "colab": {
          "base_uri": "https://localhost:8080/"
        },
        "outputId": "4da20760-f607-4fa4-e26f-0e37e0bcd0a0"
      },
      "outputs": [
        {
          "output_type": "stream",
          "name": "stdout",
          "text": [
            "Predicted Rating for User A3LDPF5FMB782Z and Product 1400501466: 3.40\n"
          ]
        }
      ],
      "source": [
        "# Predicting rating for a sample user with an interacted product\n",
        "\n",
        "# Sample user and product IDs\n",
        "user_id = 'A3LDPF5FMB782Z'\n",
        "product_id = '1400501466'\n",
        "\n",
        "# Predict the rating for the user and product\n",
        "predicted_rating = user_user_model.predict(user_id, product_id)\n",
        "\n",
        "# Extract the predicted rating value\n",
        "predicted_rating_value = predicted_rating.est\n",
        "\n",
        "# Print the predicted rating\n",
        "print(f\"Predicted Rating for User {user_id} and Product {product_id}: {predicted_rating_value:.2f}\")\n"
      ]
    },
    {
      "cell_type": "markdown",
      "metadata": {
        "id": "ENJcqG_wemRH"
      },
      "source": [
        "**Observations:**\n",
        "\n",
        "This prediction suggests that, based on the user's behavior and similarity to other users, the model estimates that the user is likely to give a rating of around 3.40 to the product '1400501466'."
      ]
    },
    {
      "cell_type": "markdown",
      "metadata": {
        "id": "cj6ecbglTsno"
      },
      "source": [
        "Below is the **list of users who have not seen the product with product id \"1400501466\"**."
      ]
    },
    {
      "cell_type": "code",
      "execution_count": null,
      "metadata": {
        "id": "xCRBMD-RTsno",
        "colab": {
          "base_uri": "https://localhost:8080/"
        },
        "outputId": "9cd5d19e-512e-46c9-b844-7054ba06ca08"
      },
      "outputs": [
        {
          "output_type": "stream",
          "name": "stdout",
          "text": [
            "Unique User IDs who have not seen the product with prod_id '1400501466':\n",
            "A2ZR3YTMEEIIZ4\n",
            "A3CLWR1UUZT6TG\n",
            "A5JLAU2ARJ0BO\n",
            "A1P4XD7IORSEFN\n",
            "A341HCMGNZCBIT\n",
            "A3HPCRD9RX351S\n",
            "A1DQHS7MOVYYYA\n",
            "ALUNVOQRXOZIA\n",
            "A19N3S7CBSU6O7\n",
            "A3G7BEJJCPD6DS\n",
            "A2JXS1JII6SAUD\n",
            "A1C82BC5GNABOA\n",
            "A1VHCO8RQFIGQJ\n",
            "A2Z9S2RQD542CP\n",
            "A2QIC4G483SQQA\n",
            "A3L6L5O89JTX2T\n",
            "A1OGCPMSIVK7G4\n",
            "A18HE80910BTZI\n",
            "A3F9CBHV4OHFBS\n",
            "A1T1YSCDW0PD25\n",
            "ABVYGB2TKBO8F\n",
            "A11ED8O95W2103\n",
            "A3NCIN6TNL0MGA\n",
            "ASHJAZC9OA9NS\n",
            "A105TOJ6LTVMBG\n",
            "A14JBDSWKPKTZA\n",
            "A3QX0ERX4D03TF\n",
            "A13WREJ05GMRA6\n",
            "A3N8O68DOEQ2FE\n",
            "A3J8A5L5AF5TX9\n",
            "A2HRHF83I3NDGT\n",
            "A1R3GN9MEJFXM3\n",
            "A3963R7EPE3A7E\n",
            "A2JOPUWVV0XQJ3\n",
            "AAW7X3GRD8GY9\n",
            "A3V8P0O224OBDB\n",
            "AY6A8KPYCE6B0\n",
            "A212MDP6K4VJS5\n",
            "A28X0LT2100RL1\n",
            "A1V3TRGWOMA8LC\n",
            "A1NZLRAZJGD99W\n",
            "A1522TN5FVJL0Y\n",
            "A3UXW18DP4WSD6\n",
            "A3CW0ZLUO5X2B1\n",
            "A3TBMGNSEQBWIL\n",
            "AEZJTA4KDIWY8\n",
            "A22CW0ZHY3NJH8\n",
            "A2V7EO331SFUF6\n",
            "A3977M5S0GIG5H\n",
            "A1F1A0QQP2XVH5\n",
            "A231WM2Z2JL0U3\n",
            "A2JWF9IG8PJAOA\n",
            "A3LWC833HQIG7J\n",
            "A38RMU1Y5TDP9\n",
            "A3D822N1K2IAQD\n",
            "A33775AIB1A664\n",
            "ARXU3FESTWMJJ\n",
            "A3A15L96IYUO6V\n",
            "A3PGVJF37JSHFO\n",
            "A2WJ5XSE4I9F55\n",
            "A1V5TRJXTI6F01\n",
            "ATOKT8QYK967L\n",
            "ANRS196NKFVUU\n",
            "A3639Z6O5JBLIZ\n",
            "A3ER6ARJ23CIN8\n",
            "A33152QEGO2MZN\n",
            "A3HRDRQ5VAFPQS\n",
            "A1KY5G5FP31F2F\n",
            "A1MQQEM7W77L62\n",
            "AUCIFMWP3DU8R\n",
            "ALHC64J88LVWO\n",
            "A2PC9ZZIFV31B1\n",
            "A54S9CIUV5VNB\n",
            "A1XE3M22N91451\n",
            "A313H6238N589\n",
            "A3SDJ70H00OQCJ\n",
            "A2WB7LZ595CR50\n",
            "A356RFKNIG043B\n",
            "AW6A4PPENVZY3\n",
            "A149RNR5RH19YY\n",
            "A32LX4XJ2LU740\n",
            "A1J75JJ0Q2OEJN\n",
            "A6FIAB28IS79\n",
            "A2RWHTNM5P3I8Y\n",
            "A3077MQTAKOVFZ\n",
            "A1FF2PLA84KNAE\n",
            "A1CM4HI4S5P0WO\n",
            "A3775OP5VTX5ON\n",
            "A2QAOP52OEB5EV\n",
            "A1KD8NJPZ01R37\n",
            "A7Y6AVS576M03\n",
            "A1B6O7SAIYG2N0\n",
            "A1KDUQ2HU0WD68\n",
            "A3RGHO0Q938FRS\n",
            "A4GGT6O0GQNV2\n",
            "A1LHMSY3Q46PJS\n",
            "A18EA7MNLXP9H5\n",
            "A1U5IJHJK84S54\n",
            "A1B4MIXYVIKMU2\n",
            "A2BMZRO0H7TFCS\n",
            "A2EZTM9WY5B5IL\n",
            "A298GL2D0BHGKZ\n",
            "A34LQ791ACZ0JC\n",
            "A1ZM846Y7AUYD\n",
            "A2IIAQ7VVAHXTD\n",
            "A1U4GOVZWL8ZTL\n",
            "A2MCRCK1V61FWQ\n",
            "A1F9Z42CFF9IAY\n",
            "A32AFX2PUJ82HG\n",
            "A3EQQHWJ1EEYEU\n",
            "A2QI2JHSIQ3SN3\n",
            "A506HOOCVL8GW\n",
            "A3GQY0TFRG0MPZ\n",
            "A54SG05AV6S4H\n",
            "A1URXSRV6WDHVY\n",
            "A1B8EJQU73YGL9\n",
            "A2WLNSZ9U0T1S3\n",
            "A2T3S3VTW65VO5\n",
            "A1V4VVBQBFXRHC\n",
            "AKT8TGIT6VVZ5\n",
            "A1MJMYLRTZ76ZX\n",
            "AS8C336DDLSO4\n",
            "A32QOZWIKQDNZX\n",
            "APQQK1V695AUE\n",
            "AW68KVDV7BBRS\n",
            "A2MOJANFPX353G\n",
            "A3OXHLG6DIBRW8\n",
            "A2AF0NOCM71J0B\n",
            "A250AXLRBVYKB4\n",
            "A2EF8N7ZE7ONWX\n",
            "AE88D7OM7YU99\n",
            "A3J2YU2D9BH2J7\n",
            "A4IL0CLL27Q33\n",
            "AAR7CEPXYJA0T\n",
            "A100WO06OQR8BQ\n",
            "A3NGOG8Z78AZSD\n",
            "A1R19YYR5OR26T\n",
            "A2MOD50IHEDH3G\n",
            "A3TAS1AG6FMBQW\n",
            "AHIK7BUXFRMT8\n",
            "A23GFTVIETX7DS\n",
            "A36K2N527TXXJN\n",
            "A3HC7NWLKCPX4X\n",
            "A1EH2S92FHWZRP\n",
            "AZOK5STV85FBJ\n",
            "AHNHLGKIZ2N3B\n",
            "AN81JUYW2SL24\n",
            "A3QMJMTLJC34QC\n",
            "AT2J7H5TRZM8Z\n",
            "A3NHUQ33CFH3VM\n",
            "AYMD77ITD15PT\n",
            "A1IU7S4HCK1XK0\n",
            "A2NYK9KWFMJV4Y\n",
            "A1D27BCSYV7VWH\n",
            "A1BC62X6HZJGZR\n",
            "A34UVV757IKPVB\n",
            "A2ED50E3KWKUKW\n",
            "A21NS06GDEA3V0\n",
            "ASJSX783R5HTZ\n",
            "ADOR3TR7GDF68\n",
            "A15XI2BEGGFEOW\n",
            "AZCE11PSTCH1L\n",
            "A6VPK7X53QNAQ\n",
            "A1VJ0V58N0698J\n",
            "A30J7WQV0ZNRXG\n",
            "A2IFGGXG3YV3Y6\n",
            "AEJAGHLC675A7\n",
            "A259MPG6SOL02P\n",
            "A1RPTVW5VEOSI\n",
            "A1U5NWJOYH2QQH\n",
            "A1AQ8JT2A3UWMY\n",
            "A2SKEQT0WTB954\n",
            "ARC5ASW9CUAGP\n",
            "A3AGQAXTX6VRJ3\n",
            "A1R377IPZOKLMM\n",
            "AZAC8O310IK4E\n",
            "AJCR7L4AXL2OG\n",
            "AGEWOMQ90BV8R\n",
            "A3EP26M3QHINXT\n",
            "A1ODOGXEYECQQ8\n",
            "A2AEZQ3DGBBLPR\n",
            "A1TDR7Y90SVCHL\n",
            "A87CILADRIZW0\n",
            "A3EZEP0FX5BC1P\n",
            "ATDE9JYCPI0L1\n",
            "A2X8KN82L07RSK\n",
            "AMKNPIDFLRFMP\n",
            "A3GFQHHVMEAIO\n",
            "A1JWSDDIH5Z7DV\n",
            "A2SL5IW096Z2BL\n",
            "AUITG1DJ3QUGK\n",
            "A3TPNC3TKGCCEI\n",
            "A1EXGL6L0QQ0M5\n",
            "A2B7BUH8834Y6M\n",
            "A1GNYV0RA0EQSS\n",
            "A1SDPA1J98UP4L\n",
            "A225G2TFM76GYX\n",
            "A19W47CXJJP1MI\n",
            "A1Z7U9K6X3FEOU\n",
            "A1L1N3J6XNABO2\n",
            "A1SX9PHJWTDMF9\n",
            "A1GBT4UN2RW7XY\n",
            "A35W3JQYP0M655\n",
            "A3TA1UJWRJF9NC\n",
            "A35HUT8MQMT21L\n",
            "A2R6RA8FRBS608\n",
            "A2HDTOF8222KN3\n",
            "AT28RL25Q2OLK\n",
            "A11D1KHM7DVOQK\n",
            "A3T7V207KRDE2O\n",
            "A3FS3FJPD3RJTD\n",
            "AN9CP6J4JF91X\n",
            "A145LBW8ZHF0TW\n",
            "A365PBEOWM7EI7\n",
            "A2HMF8ZR67BNZS\n",
            "A4WEZJOIZIV4U\n",
            "A1C5WS021EL3WO\n",
            "A17Z0LVY96TO53\n",
            "A2UQK3DAZ8NO2T\n",
            "A5KMMY627T3W\n",
            "A5MCDQ60DWUEV\n",
            "A1HSM98KUGTHNY\n",
            "A2PK64OVZA1U8Z\n",
            "A3R1GJY2MY8041\n",
            "A1X3DA7C61WZLQ\n",
            "A1YVO5V1SO18DZ\n",
            "A12DQZKRKTNF5E\n",
            "A74UT8IQCM0I2\n",
            "A30XZK10EZN9V4\n",
            "A203OCQQ12MAVT\n",
            "A26CPEEWB2WKRE\n",
            "A2XX2A4OJCDNLZ\n",
            "A11KZ906QD08C5\n",
            "A2J3VCGBNDLAKF\n",
            "A1ZTR0FR5AW9B4\n",
            "A25TNBMJ4ZO7RD\n",
            "A14I1F2H7NOYDC\n",
            "A3CFU12GS5CZCN\n",
            "A1V4A5U5O3TMMD\n",
            "A3PD8JD9L4WEII\n",
            "A1FDV3WPOHREY9\n",
            "A194Y47BF3CUTJ\n",
            "A26LD9FQHTM8ZH\n",
            "A3QDY9I0CNMD2W\n",
            "A2J0IBS4PFRO2C\n",
            "A3SX5MZTCZRQLF\n",
            "AGXV8E7XK9J6H\n",
            "A10Y058K7B96C6\n",
            "A3Q4TYJVAM4IRM\n",
            "A3PJJTAKISAFI9\n",
            "A3REK3OFONWB1Q\n",
            "A3L9E0YI7C5G0W\n",
            "A1H98YV5K5BUX0\n",
            "A4UGMKUSX9XHI\n",
            "A3P4T1DKRWTL36\n",
            "AQNSQW4495SG0\n",
            "A21T0D2F7SKG5S\n",
            "A3OYO7B6SS7QLH\n",
            "A23E9QQHJLNGUI\n",
            "A3QU3O79AGNWCY\n",
            "A2GMZZ6TDYOHY7\n",
            "A3TR3KLL5PXSZ8\n",
            "AHF4I1FSIHABC\n",
            "A1RJKTYC03L0JY\n",
            "A2ARDVMUGDFED6\n",
            "AIJQU979J6UFY\n",
            "A3EPJSPH03AS29\n",
            "A1N3EH28S4DI8L\n",
            "A2DS9DLMSU2M2Z\n",
            "A24HWYHR28JJ7A\n",
            "A25C2M3QF9G7OQ\n",
            "A30C8WHQ2CYFO4\n",
            "A2W9GX82SLKROQ\n",
            "A3EZFFPVS34AMO\n",
            "AAQ9NJ480N9W5\n",
            "A2PY5ED630H0QJ\n",
            "A3CEUT263RNUDO\n",
            "A1PSVZBM894R5H\n",
            "A2XU6J41ZQOJ2V\n",
            "A3N4VTNFPMTHEF\n",
            "AQ55H30MZSV0Q\n",
            "A11R5VW7IM6ISQ\n",
            "A2NP9CGUSFP22E\n",
            "A1D9V11QUHXENQ\n",
            "A9BWUH9XKZ2DQ\n",
            "A17W0GMB0YY83M\n",
            "A3IOQ7NVVLAUEE\n",
            "A1X1CEGHTHMBL1\n",
            "A3V0YR50F1XSKP\n",
            "A1CMD08Z49PGKQ\n",
            "AN2IZT80ZUNJN\n",
            "A1CMWB7AWQUQH4\n",
            "A2Y3WWPUKIJ59I\n",
            "A3QDMDSANPYGUX\n",
            "A3DQWFWINN3V5A\n",
            "A2NX6MFZP8TM6S\n",
            "A100UD67AHFODS\n",
            "A1QRST0A3IQIEF\n",
            "A2WBVO6X3KPMDT\n",
            "AOMEH9W6LHC4S\n",
            "A3QQGPI3CTV9SX\n",
            "A141OPVE376YFI\n",
            "ARBKYIVNYWK3C\n",
            "A3S0DBBR693O06\n",
            "A215IN14OKAE2T\n",
            "A2OOXVZ6B1VZ9A\n",
            "AD9ZL63H0VKCZ\n",
            "A3H4S6YO9VNGDZ\n",
            "A3QUDXLOJTKEP9\n",
            "A1H4IVXNXWWBLV\n",
            "A16HXVNPU5TCGE\n",
            "AZ515FFZ7I2P7\n",
            "A20WUUD9EDWY4N\n",
            "A1REY92IEZJUSX\n",
            "A253IOATGMT2UP\n",
            "A3G007LQX6KGOD\n",
            "ABMN74TBW5UWE\n",
            "A38NELQT98S4H8\n",
            "A38NHXL5257E3B\n",
            "A19X4BF861LQST\n",
            "A2BGZ52M908MJY\n",
            "A7QMQBGJ2TCQG\n",
            "A2ZRMCRLDSUX6R\n",
            "A2EMUM49CE0JV4\n",
            "A1IG1I6MR3HAWA\n",
            "AA8RBTN3J2F5H\n",
            "AK3GKIV8DEY8B\n",
            "A2YRX8J4WM5BRX\n",
            "AU627A4UGIW6V\n",
            "A16RL0RMRF974O\n",
            "AR8LWDT6TUKNZ\n",
            "A32T2H8150OJLU\n",
            "AHR86ZEYETLJI\n",
            "A11P105WVK5240\n",
            "AU2UJF4I7KAWL\n",
            "A9Y5O2R4D6EH5\n",
            "A32482Z7XIKDQX\n",
            "A2FXBWR4T4OFQ\n",
            "A3DOPYDOS49I3T\n",
            "A1FLJCHN5CG5M5\n",
            "A1NNMOD9H36Q8E\n",
            "A1FXT4VNDA25LY\n",
            "A1PV5T5S4D5NPI\n",
            "A3E68EBGXTWDNP\n",
            "A2YEZ8Z3BW2SKG\n",
            "A3TRY87JJCA5Y8\n",
            "ANXEW7IDYDJEH\n",
            "A1SFPA80X7TRBR\n",
            "AFR9GYKAHM37U\n",
            "AWH2AY17ZU7W2\n",
            "A2ALRZ0ENQLYY5\n",
            "A3PU3EDJ2FG1AW\n",
            "A2Q7OJTVPIO2XH\n",
            "A1VVRA3P6G1TWH\n",
            "AH3LF9RAD1O2V\n",
            "A30ADSBTWCORYC\n",
            "A8X478DM3KAWM\n",
            "A376OJHLE6SU9Q\n",
            "A1VQHH85U7PX0\n",
            "AGVWTYW0ULXHT\n",
            "A1ZVFCPHCWFV71\n",
            "AEAFHD09X8044\n",
            "A12ANFNOSMW5VD\n",
            "A28RSMADFCBJDT\n",
            "A2TA40MV2H4O6F\n",
            "A1VRANSQ0WF1YS\n",
            "A2XRMQA6PJ5ZJ8\n",
            "A3FPSY1M6G7XIB\n",
            "A2NOW4U7W3F7RI\n",
            "A1MFAPVBW9BEGD\n",
            "A2J8T58Z4X15IO\n",
            "A1TQZUSOU22E9M\n",
            "A1XXMNLOLKNO0I\n",
            "A197T2N6RU7K56\n",
            "A3JU16JTNLVK1J\n",
            "A3TBMAWIIHKHFN\n",
            "A27H61OHW44XA7\n",
            "A20G074MWH9U7O\n",
            "A22R9L5DAVYYWR\n",
            "A33HIV8RXRDM88\n",
            "AAEVGE52KL0DJ\n",
            "A1VLE2SH9J8WYS\n",
            "A2GYV87WW0DMSN\n",
            "A1LA4K5JF78BER\n",
            "A1QVFHPY8418HC\n",
            "ADLVFFE4VBT8\n",
            "A33SX0AD5PYD9B\n",
            "A1E55W6ES0FY17\n",
            "A31N0XY2UTB25C\n",
            "A314KKDIJWCNMV\n",
            "A2LEIANN1UZTHP\n",
            "AT6CZDCP4TRGA\n",
            "A3D7BGK0P5QY0X\n",
            "A33ZYFE8XMKKR1\n",
            "A1KWPIORLG2QV\n",
            "AUBEFRFHJR64Y\n",
            "A2V5M5EJPOD2IU\n",
            "A200DY76VXVGP9\n",
            "A3EFSLEMHNPP6A\n",
            "AWNJAY0M5UI70\n",
            "A2SATO5BNKWY3Y\n",
            "A2F7CSE6KT7NI4\n",
            "A10X9ME6R66JDX\n",
            "AXU8RH1DEV21H\n",
            "A19HT7YC1UW3D6\n",
            "AD8DLOGHAXL\n",
            "A16CVJUQOB6GIB\n",
            "A1MFPAM9TTRTXN\n",
            "AROQO2VDODT7\n",
            "A2LCE1D0TW2XY0\n",
            "A16SRDVPBXN69C\n",
            "A3OA4DV4L81N1D\n",
            "A2T689YVOAYGGD\n",
            "A2RIL2NXHE00AQ\n",
            "A1ILWPH1GHUXE2\n",
            "A2NSMJVQY0RV9S\n",
            "A1QNYLBG73QRNF\n",
            "A31ICLWQ9CSHRS\n",
            "A3FKQQTSMHOCE0\n",
            "A3Q1J68QY1MZQ9\n",
            "AZNUHQSHZHSUE\n",
            "A1EKSETIBS9ETQ\n",
            "AQ3IN3MRXQ5KH\n",
            "AWJWCKB92RJX2\n",
            "A1OMXVXXP07F05\n",
            "A34VRVI4CSI5RQ\n",
            "A17HMM1M7T9PJ1\n",
            "A2D1LPEUCTNT8X\n",
            "A23D13HKTA95WX\n",
            "A3IUW081KXD3PE\n",
            "A11ULAZ4B5ZXC8\n",
            "A23NSKTMSPPBTR\n",
            "A19XMHRB3G4DIR\n",
            "AG0PM9IAHQ06C\n",
            "A22S7D0LP8GRDH\n",
            "A9J4UURM4OSDW\n",
            "A2DF62DP20RIXF\n",
            "ACSX5AIZE3MJ9\n",
            "ADHA1W879JNT0\n",
            "A3NOBH42C7UI5M\n",
            "A22MANL4US4RMY\n",
            "A19FRW264WZTGP\n",
            "A3CJ7MHAS9IMAM\n",
            "A3KTWUXXB8KKC7\n",
            "A3FEJ8H2VTN0OJ\n",
            "ATNOI7E8GTIVE\n",
            "AMUP8DYE7EAN2\n",
            "A3INN916E4VION\n",
            "AOWF9T81XMX2S\n",
            "A2Y29IRSI08F0I\n",
            "A196JN53PG0C7R\n",
            "A2L4W1M5YU5QX3\n",
            "A6VXZ1EEPRTLV\n",
            "AV10H5K6VPQIJ\n",
            "A2UEB48LAWFUCW\n",
            "A26BDXG9KVH7SU\n",
            "A3IY316DRNF5F2\n",
            "ATS2855497V0I\n",
            "A1XB7JGJ459ERP\n",
            "A2NOIWPJDD7WIQ\n",
            "AC6Z7DP1Z5GHD\n",
            "A15G70V9OBTOVO\n",
            "A35HNL2VEDK9Z1\n",
            "A15QYHQH80W30L\n",
            "A1SHHQSPOWR00F\n",
            "A324X7RVDAV3FT\n",
            "AGXMC3ITWZASE\n",
            "A294BKN913UOGP\n",
            "A3QNX5KWHDV0GD\n",
            "A1FR68QH6Z4YZM\n",
            "A33YZNZIRA3H97\n",
            "A3O5ASFUXC32UA\n",
            "A2LXX47A0KMJVX\n",
            "A2VODABWSVHV8E\n",
            "AGOH8N902URMW\n",
            "ACYZXQ2JKPZKT\n",
            "A2SYAQXJGRY3XE\n",
            "A1435P5AMCPB3X\n",
            "ABDR6IJ93HFIO\n",
            "A1F5O1USOUOOXI\n",
            "A2RW587355CMVA\n",
            "A1Q5P5ML3176C0\n",
            "AY3XPKRAMKKY7\n",
            "A1PAGHECG401K1\n",
            "A2D1ZQEFS1NBH2\n",
            "A10O7THJ2O20AG\n",
            "A5Q1FK0FWU7DH\n",
            "A96JD9312DHWC\n",
            "ADKGE078JK8K7\n",
            "A27QXQQOLAMRRR\n",
            "A35X2JJI49OBZP\n",
            "AU3GYRAKBUAEU\n",
            "AWZR0O65DL2Q\n",
            "A2XJMQ2COPGWJH\n",
            "A8X8D4BUY5DFU\n",
            "A1PN2U0AWXGVML\n",
            "AR1T36GLLAFFX\n",
            "A2RU4U1JZ3DMP5\n",
            "A12LH2100CKQO\n",
            "AGHZXQL9F94T9\n",
            "A3R33KMESG0XGQ\n",
            "A2FWZ58M6IQMD7\n",
            "A4H4KYSM2KQ85\n",
            "A1BT6TL7UCIC5Y\n",
            "A1PL7QILVQV3IF\n",
            "A2TN0U8173HM7A\n",
            "ATFBVUXDIRXT6\n",
            "AOJA1LC8PN7K1\n",
            "A1P3DDFL423B3C\n",
            "A3G5MOHY1U635N\n",
            "A3NXJDNTQK2YJL\n",
            "AI2AOCTC8BQVZ\n",
            "A3NVZTGPORNPRW\n",
            "A3L1VJMHFWONCB\n",
            "A2CWUM49ZWMGEY\n",
            "A2BLFCOPSMBOZ9\n",
            "A233TZONT1OGR0\n",
            "A15TABNGK6L4N3\n",
            "A2PJH18W4XHTZW\n",
            "A370XYLIZCSK1Y\n",
            "AZMY6E8B52L2T\n",
            "A1MFVAHTT2BHM0\n",
            "A1BJOHHLG0D965\n",
            "A38Z6QG6988WS7\n",
            "AAK6SOEJY30YG\n",
            "A1QQA7Y92L4F9R\n",
            "A3NKRH3TJ4DPVI\n",
            "A39137LW12KK7B\n",
            "A3D2VIUT2HWP0Z\n",
            "AI8EMB0HUC6Z5\n",
            "A335QXPTV1RIV1\n",
            "A3EXWV8FNSSFL6\n",
            "A2NX6PABLIJLP1\n",
            "A3BI8BKIHESDNQ\n",
            "A1MRPX3RM48T2I\n",
            "A3FFZQKCA7UOYY\n",
            "AOQLV2LSI9B2W\n",
            "A2UTZ4O5E2W4DK\n",
            "AGYH5U11ZKPFB\n",
            "AWPODHOB4GFWL\n",
            "AKBVYIIHWI04B\n",
            "A1G5MI2KREPEIB\n",
            "ABMF4UC4Z00NT\n",
            "A3V15SFD7918WZ\n",
            "A213J54E63SYOP\n",
            "A2JP9E1H0SF392\n",
            "AEL6CQNQXONBX\n",
            "AS7J4952JB5XR\n",
            "A1CPRP3VFJRS1R\n",
            "AFM7FK7NFEKFZ\n",
            "A1LAGS8H4A2DR7\n",
            "A1DO9LRCO23EOM\n",
            "AULFLNWJP1QXY\n",
            "AQM0K7MBBT4AY\n",
            "A1AWL9JASMG904\n",
            "A30JPZ9TZ7I61U\n",
            "A2JRDFIGWTX50J\n",
            "AHROSV6WJOEGY\n",
            "A2AC6GQ24S45GA\n",
            "A16QODENBJVUI1\n",
            "A3Q6ZPW60CVF2L\n",
            "A377LPVLLAI42D\n",
            "A3SL0HA6422W4M\n",
            "ANW6EGY12V5XS\n",
            "A2HXE29CU1I24Y\n",
            "A2NJQF2UI60VGT\n",
            "A2GKMXRLI7KLFP\n",
            "AG35JCCQWDRCS\n",
            "A1Y4EWMUTW73GD\n",
            "A11EXFO14WEJM1\n",
            "AH5BCMZELZSKG\n",
            "A37IRE9GZ0CZ7I\n",
            "A35A2RWUMC737N\n",
            "ANYC38I00IRVK\n",
            "AB094YABX21WQ\n",
            "A2PL06HW6KZH2\n",
            "AMFXXAOVV4CPJ\n",
            "A3KCETSIJNOK56\n",
            "A1QLQCJVGCQPP0\n",
            "AL42PIIG5DXYD\n",
            "A14Z6D3IRJ23F7\n",
            "AFXTKAO0CB354\n",
            "AWSK1ZAEU1KFL\n",
            "A3JNBO7H2SPL44\n",
            "A8CKH8XB33XGN\n",
            "A37CEYB95LK6R6\n",
            "A3V5F050GVZ56Q\n",
            "A2RGA7UGAN3UL7\n",
            "A1OO9N1MRNQ7K0\n",
            "A2J7FHZFKOKGZ6\n",
            "A3QRR8PSCBI07C\n",
            "AK9BXHEXOOM6Z\n",
            "A2ZDY0V4Q1SZD7\n",
            "A1EOTB1WHLSW6G\n",
            "A185O1MX1RP964\n",
            "A23ZXHFLC6TBLD\n",
            "A1VR1HIOVQWN09\n",
            "A1B0NL8UWAELI7\n",
            "A24P4E3RJ6AX94\n",
            "A1WJ3P43SZUNDM\n",
            "A2KYRPDKVBI2R4\n",
            "A2L42QEWR77PKZ\n",
            "A3SRDVCD2ATIIS\n",
            "A3CG93783LP0FO\n",
            "A3NYBI5VMVEEIK\n",
            "A87N6UTYA6NOB\n",
            "A3U6J0DLLDEWM2\n",
            "A2QDOJFFLFGF18\n",
            "A2BX8DDQGCCG2J\n",
            "AG7EF0SVBQOUX\n",
            "ACJT8MUC0LRF0\n",
            "A13WOT3RSXKRD5\n",
            "A1NGFGBX2VCQS8\n",
            "A3KNGMX2RVQG91\n",
            "AZBXKUH4AIW3X\n",
            "A3IRA0BHI9NE9U\n",
            "A22NKFOH9RATRC\n",
            "AFM2J3HJNPIHV\n",
            "A2YYHSORXIHZCS\n",
            "A38CHSS1ZAE51B\n",
            "AYB4ELCS5AM8P\n",
            "A23WPWLYT3P1CZ\n",
            "A3O1FVLUD9X1XC\n",
            "A19EKT8H85AKO5\n",
            "A7EJERNB7IK3Z\n",
            "A3NEAETOSXDBOM\n",
            "A2ER8G4JJJ7XER\n",
            "A1MCH5RXDOH87H\n",
            "A1AH8033GWKBY7\n",
            "AKSFZ4G1AXYFC\n",
            "ACY9QYNDFLVBI\n",
            "A35SNSDRNE9P8Q\n",
            "A2LLSFQO8O8XNW\n",
            "A2CPP7BZKOF9TP\n",
            "A3A4ZAIBQWKOZS\n",
            "A2L36AGL8CKY3D\n",
            "A24J2Y1O22JYZX\n",
            "A2XXBZPQT5EXHV\n",
            "A2UOHALGF2X77Q\n",
            "A3F3B6HY9RJI04\n",
            "AT09WGFUM934H\n",
            "ABUE0ALHKWKHC\n",
            "A2NSXY5L42ZUGO\n",
            "AQR4HPVSOPS08\n",
            "A3LSEIG2PIJYBL\n",
            "AUK79PXTAOJP9\n",
            "A16WP8NTPYB0ZM\n",
            "A2MIP3AQVSF2SS\n",
            "A3MU9G6YWKTGTA\n",
            "APOGXH3A74CM3\n",
            "AY4EXFOO43C3S\n",
            "A2MR696ZU17F12\n",
            "A2NQMVTQ4PVLL\n",
            "A680RUE1FDO8B\n",
            "A2PICNZWHEINQC\n",
            "A1ZXMMQPYC3Z9I\n",
            "AEWYUPCNDV7HY\n",
            "A3M82NO6OU1FHS\n",
            "A1UEL5C1N6E5SE\n",
            "A23ONMGKEWDG4M\n",
            "A30X750M8V1XXW\n",
            "A32HSNCNPRUMTR\n",
            "A3CP3J7OEGQMD5\n",
            "A1OES7R7FDAT2L\n",
            "A2Y1WNETD9AYHO\n",
            "AD0J5KK4WQXNS\n",
            "A3R4794K2RVU1S\n",
            "A1KXJCXS6HFRQZ\n",
            "A2WDCAMKCCP1UR\n",
            "ABE5E8B3J7MKY\n",
            "A1ZU55TM45Y2R8\n",
            "AR74YY08IP2WE\n",
            "A8WEXFRWX1ZHH\n",
            "A1Y051MQ2SVPFI\n",
            "A2X06FP2PQ6EK0\n",
            "A1CST2WUA32GP0\n",
            "A2LF07KCXDR70D\n",
            "A1Z4GII5CHCDG7\n",
            "A2XAKGRUHIE2ZA\n",
            "AFHYEO3Y1IIDD\n",
            "A124WZCUIH2T7W\n",
            "A28I5UM0FT3I6T\n",
            "A3HXGSMCIOZEW8\n",
            "A28LUOEY0ECT9G\n",
            "A2A4X545ERLS7H\n",
            "AHS6PX6H22WW1\n",
            "AQIJ3ZEEVCIKU\n",
            "A1MZL91Z44RN06\n",
            "A1ROUMJOGO4QMB\n",
            "AYP0YPLSP9ISM\n",
            "A37D1ZP8GBHE38\n",
            "A20DZX38KRBIT8\n",
            "A1ZCSSCAGBCD49\n",
            "A3LGT6UZL99IW1\n",
            "A3AYSYSLHU26U9\n",
            "A2LW5AL0KQ9P1M\n",
            "A35IX2GE0VC0JP\n",
            "A17BUUBOU0598B\n",
            "A3W4D8XOGLWUN5\n",
            "A240FRPD4MEXND\n",
            "A1VS1LL905P5L5\n",
            "A3V6Z4RCDGRC44\n",
            "A19RGDJPNZ7NZ\n",
            "A2VAD79S4A06DD\n",
            "A2IFKH3TJ10387\n",
            "A1LYMYNURB9EWW\n",
            "A2KOV8XWZOZ0FQ\n",
            "AAA0TUKS5VBSA\n",
            "A1I96OYAUJ3HQE\n",
            "A1L64KDYO5BOJA\n",
            "A2D0CO1OA6DSWY\n",
            "A2Z2MUP8JRJXEU\n",
            "A21S26XYPGXJZX\n",
            "A2PSD2R9A1CXG7\n",
            "ACHTDPEQYSEQL\n",
            "AQ2FC1DLKVD8H\n",
            "A24ARANWS5E3T8\n",
            "AYCAIHABPYWVJ\n",
            "A2RTVGR9B1M600\n",
            "A6KL17KKN0A5L\n",
            "A3BACUOZV1M0WM\n",
            "A1NJHKPHD4YWZV\n",
            "A1DB5QPH7WO488\n",
            "A1987V5OCO6QHS\n",
            "A362FM6FYA1SYS\n",
            "ALNE7Q71JFC0F\n",
            "AV9PIER7NE448\n",
            "A7KBAXO177NND\n",
            "A1L5TA5UQF7EWE\n",
            "A6XLG77BC9R8R\n",
            "A2J8DE8R94ZB02\n",
            "A3CMO216CWOF5N\n",
            "A3GVXKCTFN3YDN\n",
            "A1TQBAHI3M4ZBQ\n",
            "A28621TSIR5EOG\n",
            "A9ELHLPXF7JKD\n",
            "AETQIN7OH0RL9\n",
            "A27M75LRSJ788H\n",
            "A2BYV7S1QP2YIG\n",
            "A2OKRGHIYTBQ6P\n",
            "A2F2GLVFRNV7JJ\n",
            "A2I357I10ZY7CI\n",
            "A25FL6VLD7S23S\n",
            "A33PVCHCQ2BTN0\n",
            "A1PM7HH4F77NEH\n",
            "AL1XV4L25FZ2S\n",
            "A3V7D0LH8L7BG0\n",
            "A2YHXGPCTENZY3\n",
            "ABH9D1TEOJ56E\n",
            "A3MQAQT8C6D1I7\n",
            "A274MXTX3DYLUV\n",
            "A38KK0SZYEH5UD\n",
            "A206CGM6J75UJY\n",
            "A2I5LVVQ7WXEH6\n",
            "A13BX9O5UDBILC\n",
            "AGILRZOT49R0V\n",
            "A3QAO3QBCQF89T\n",
            "A3F7USIDJBR8WU\n",
            "A3HR0ZZOFKQ97N\n",
            "A2TKWMX4563NR6\n",
            "A1J87SYB3JPQWH\n",
            "A2I2KPNJDQ9SL0\n",
            "A37PV5GMP2ILJC\n",
            "A1VEELTKS8NLZB\n",
            "A2V1J3JT5OOZFO\n",
            "A20DDH4NT6Q1E8\n",
            "A2XQYE6TJYROHQ\n",
            "A15J9K7O10A3M6\n",
            "A3NG7X4APIV649\n",
            "A3IMALU0RM8UT9\n",
            "A2AY4YUOX2N1BQ\n",
            "A2F92M62KN324B\n",
            "A2FSOHSM9X13JT\n",
            "AG2YXYIQ8TLTA\n",
            "APGQTZZ4ZFPHO\n",
            "AXU3VKZE848IY\n",
            "A23R3EOZ837242\n",
            "A1ATVMMJZP3Q4X\n",
            "AOEDWQLH2WKKW\n",
            "A3PPO2X5PJE1L9\n",
            "A3V6QSTG2T9MIO\n",
            "A257X1MQJO82P2\n",
            "A2JE071UW97J2A\n",
            "A3SOJO7Z7R9WIA\n",
            "A1QJ10LEINDRWW\n",
            "A3CIET1UO3G51E\n",
            "A8FKL1DHTHC12\n",
            "A31BD4RXCON7QO\n",
            "A3JAH5WW61N2EK\n",
            "A1Y85GQ09Y95JL\n",
            "A1GQRGB8FGSLIZ\n",
            "AMVXR3NPL0GWX\n",
            "AFQBS241UKPAZ\n",
            "A2L90SGUP36KGA\n",
            "A2HBOG4LVIY15L\n",
            "AOEAD7DPLZE53\n",
            "ASFP250F22MDZ\n",
            "A31RZMVAFMLB8B\n",
            "AFICF7DKHTQ87\n",
            "A2ZY49IDE6TY5I\n",
            "A1BXVZSQOJE6UE\n",
            "A11YOTONCPRQ9S\n",
            "ATZJNEXX7LWD3\n",
            "A24RCBRDXRXR0Y\n",
            "A1E1LEVQ9VQNK\n",
            "A15CL28ALB7MTZ\n",
            "AT8V3JOZD3KWK\n",
            "A21INUA35HX4XQ\n",
            "AVTJEWTCJ3PBE\n",
            "A2HXEJXEQQTM1D\n",
            "A2L0F2T1DLTNT8\n",
            "A1SC5OXLQNGPLN\n",
            "A35C2IVVQR1HTK\n",
            "A1A5KUIIIHFF4U\n",
            "A1NMM0RDRF6R84\n",
            "A10ZFE6YE0UHW8\n",
            "A32JCI4AK2JTTG\n",
            "A3VL4RXCWNSR3H\n",
            "A2HKUM9OEBQKDW\n",
            "A27B1U3OWCU14J\n",
            "A24QFMD1RXLJMB\n",
            "A3TP31S61PPE3G\n",
            "A25HBO5V8S8SEA\n",
            "A3P69DTOXII004\n",
            "A18YMFFJW974QS\n",
            "A1X2LENOF84LCQ\n",
            "A21Q9JVG4SII51\n",
            "AHQRU3MRORIWQ\n",
            "AVPNQUVZWMDSX\n",
            "A32O5FZH994CNY\n",
            "A2HPJKM7L4EOQB\n",
            "AELK0E5DK7LIZ\n",
            "A17RFKCYS69M3Y\n",
            "A11YIHB6IW352W\n",
            "A1RPJHUVVSI98A\n",
            "A11IXJ8M1JO296\n",
            "A291XTI6NO7DEG\n",
            "A2DG63DN704LOI\n",
            "A2BCDZO1XQLDH\n",
            "ARIDN94LOCQFD\n",
            "A1Z7SC7HH1BJKA\n",
            "A2NB2E5DXE319Z\n",
            "A386LG0LRWKJZP\n",
            "A2V0I904FH7ABY\n",
            "A28J3123I1QDKI\n",
            "AM8W6Y3HVXLZT\n",
            "A2VCXIAWCPQ13P\n",
            "AM0QLU79O05JR\n",
            "A1A306IAZ3TM1\n",
            "A2PZXXPGLXXKZU\n",
            "ADKZOXAOV8EXD\n",
            "ALRCAGJOJ9583\n",
            "APBB297H3ZA5E\n",
            "A1DSRM2P0WGQNS\n",
            "A2SH7OWE8QJYNC\n",
            "A3BVN2QBNPBHCR\n",
            "A1T9MILRRZ00F8\n",
            "APBDZ88BBTN4F\n",
            "AVBLGXSWRN666\n",
            "A2L9OPJAAEK08Q\n",
            "A1C5TCCR2IGKBU\n",
            "A3B20R4ZAH0Y2Y\n",
            "AW3LX47IHPFRL\n",
            "A12DLJESJKM1OQ\n",
            "A2AX2UGB167J31\n",
            "AJX9A4Q19UTJU\n",
            "AGX2K0FMS0IVL\n",
            "A2TVJ0YDW3QO63\n",
            "A3284KYDZ00BZA\n",
            "A16RI68PS6T5CA\n",
            "A3JV071KO43Q5X\n",
            "A3UW0PQLDUACMH\n",
            "A1VTCSCH8FFC76\n",
            "AG5WSXI52FPKH\n",
            "A3RR2P5IS3DGPR\n",
            "APMYPD97EHUUZ\n",
            "A3U5HKDHPYBAK3\n",
            "A14NA0W8ESGDSI\n",
            "A1SB9BNNGKNX2Z\n",
            "A10NMELR4KX0J6\n",
            "A2NLI1M5K2MQ5E\n",
            "A2G563AC1HME2R\n",
            "A32NEDX6UVV8DE\n",
            "A3K91X9X2ARDOK\n",
            "A2PSC7LUNIDEAH\n",
            "A1JBEKU5TYIWE7\n",
            "A3SVYWA9O1KUQV\n",
            "A1VFX417XDNWIU\n",
            "A36A1ZYZH8568P\n",
            "A18GJ9MYYO6GCQ\n",
            "A2X78O6G89CB30\n",
            "A3U41ZL33SS92P\n",
            "A3T4OHEAHOJ700\n",
            "AONUCJBC85BL\n",
            "A132ETQPMHQ585\n",
            "A18S2VGUH9SCV5\n",
            "A2VIYTWXANL343\n",
            "ABSYIF0ONC2AF\n",
            "A28UMA3GW9L124\n",
            "A1VUN4JU731CBH\n",
            "AZ8XSDMIX04VJ\n",
            "A3VBXQKRM7A4JR\n",
            "A1WG97A0EFHYXN\n",
            "A1ASWDAEDTTY5I\n",
            "A3SMD3T0QTN109\n",
            "AR6APXLK7TJU2\n",
            "A1VLVWTLV3LVHR\n",
            "A3IK2VCQ007CJ\n",
            "AV8MDYLHHTUOY\n",
            "A274X54O9CN2SR\n",
            "A3VZH0PWLQ9BB1\n",
            "ADPKRJ2BSFJ0I\n",
            "A2XA8CW5DF4MNZ\n",
            "ARX7Z3NI6O0F7\n",
            "A3R1WFO4KIUQXZ\n",
            "A361M14PU2GUEG\n",
            "A18FLOC8YQY0P8\n",
            "A35OIWPVTGW3UC\n",
            "AO2EURP2Y4JZM\n",
            "A3DGJMO6VPG6FJ\n",
            "A1UL2JH7XOUGM5\n",
            "A2HJY7418G1KV1\n",
            "A3T8WOFS5RD2IR\n",
            "A21I62TCDL4754\n",
            "A2HNH4PKE5DPSI\n",
            "A2F4HP0J5VNOYR\n",
            "A2E1EFNIZL2FVA\n",
            "A18OTCHQ6MXD6X\n",
            "A2K5RRMPICZ606\n",
            "A3S3VSXEFXBMRC\n",
            "A204K1OFE8OB9Y\n",
            "A2ZRG5NOFZ47RK\n",
            "A1PVX61PRPVX27\n",
            "A17O9AHKHK66AI\n",
            "A3CJOB7CHOSZUG\n",
            "A3U029B8Z5WGI2\n",
            "ADZF3QDGSZE7K\n",
            "A14MZJTZAQS6CV\n",
            "A7EU2BWLLCJY2\n",
            "A2294LS59GC5K7\n",
            "A27Y4OEC9MD9PA\n",
            "A1WF4QNIE2Z3I7\n",
            "A1L0P1ZP5FD6EC\n",
            "A3SU7JSTPH9CC9\n",
            "A3FEGTOLCWXSV4\n",
            "A3UQSOJW51UU9T\n",
            "A2WYF4POBUXL2O\n",
            "A3DWO5RJDA430F\n",
            "A2THQCHKR89E16\n",
            "ACH055GTTIGC9\n",
            "A2RS66Y79Q8X0W\n",
            "AXYM52DNK6NDF\n",
            "A20OBCQWBKCGZT\n",
            "A2DIQTZPF26T1L\n",
            "A5QDZEOIMQ4LW\n",
            "A1F7YU6O5RU432\n",
            "A28525P0S5ZVJ3\n",
            "A1O229NVVDJUX2\n",
            "AEFTIUQHSVUFX\n",
            "A6TBR6L2D4XKC\n",
            "A359MYLPLEOF7N\n",
            "ATDQ9CGCWTT8D\n",
            "A2LFWJ8X817QGX\n",
            "A1VGXHHR08G044\n",
            "A11KQADBYE0UZL\n",
            "A1PS4OYWUB0VX\n",
            "A1F0KPA232MTYC\n",
            "A4S2WAQVQR6PI\n",
            "A1AKW788238PWQ\n",
            "A2X61KKXXR6WNP\n",
            "A28P7V9KI7MXP\n",
            "A1CN1P7147QDJC\n",
            "A33XMCG1UFDSY2\n",
            "A2PB325LKXYDOL\n",
            "A27H0T39U3FZB5\n",
            "A2SNE4QQGVP13U\n",
            "A1ZA5SXZS8Z3CK\n",
            "A1VYFEJM12ZP11\n",
            "A1OA2ZW406NQXM\n",
            "A4IEUHNRFZO0\n",
            "AJEOFP6ZWY0MK\n",
            "ANFJYYQ0P35CW\n",
            "A2ULZRSHXS3HL7\n",
            "A11FX8HL2ANK6T\n",
            "AWNBZSEZ9P8BE\n",
            "A5CDMTW6JKV5G\n",
            "AMWL7XIWIPXEZ\n",
            "A19HKRB4LU5YR\n",
            "A2XRIU3SOYZ0ZC\n",
            "ABXANRX4GPYRZ\n",
            "A1N5FSCYN4796F\n",
            "AKX9EQ37PAYMY\n",
            "A27T4RQ3XA661C\n",
            "A2W9I628I6SE1U\n",
            "A3H6NNGCINPLEC\n",
            "A2OBDNQ5ZYU1L8\n",
            "A1ZPUEHF4AES86\n",
            "A2SH6A32BE6NEV\n",
            "AX05DBU8IRUWY\n",
            "A25UZ7MA72SMKM\n",
            "ALDAF4VVLFRHP\n",
            "A1PEXTGNF36I1Q\n",
            "A178M2AHNWQZB0\n",
            "AFH97KY1SBP2C\n",
            "A2IT7S59GSASN7\n",
            "A19RW25Q6206I3\n",
            "A3QKIR8J56EUI1\n",
            "ABIVKBMSIPEDY\n",
            "A2EN82VBJT44QP\n",
            "A12R3YGEHW7D8G\n",
            "A214W7SK2DJQ99\n",
            "A25TQLMIAPI1T6\n",
            "A2EW01G2LNJN06\n",
            "A186697K4XKXQL\n",
            "AX7317G153T8W\n",
            "A21KNRUAA5RK5E\n",
            "A3SP7T2PZ3HSDE\n",
            "AIBRTGBN07D6A\n",
            "A1S7BFT0HDF3HA\n",
            "A3PCEB9ND82AGE\n",
            "A1BZIM4WGZ6DZP\n",
            "AVJORH3ACR2A5\n",
            "A3S3R88HA0HZG3\n",
            "A2TRXEZYU9GYY8\n",
            "AFNG8O2DXRCUV\n",
            "AWHL379EE14K7\n",
            "A2MSBIA18RXYQC\n",
            "A2K6CDQ9HZ359G\n",
            "A3MQ15651KGVLJ\n",
            "A198CCH4NNLI2E\n",
            "A1901NTE8LFJF6\n",
            "A3D6OI36USYOU1\n",
            "A2XHOLOLKGV1FE\n",
            "A2QI2NTDTMK2FV\n",
            "A3RGJ1FXOB1ZLL\n",
            "A2RN2AO4BE6F4K\n",
            "A357B3PUHSVQA\n",
            "A64LEAZ2QF8L2\n",
            "AG8YP2XTC5X1I\n",
            "A11EYMH9UV9XG7\n",
            "A209G57KXCBF4C\n",
            "A1RL1OTV8IJMVD\n",
            "A20VG5W98SX99L\n",
            "A1XK4VP74IB9TQ\n",
            "AXP8GO5Q3AXSA\n",
            "A1JUBRIZMO0RJV\n",
            "A38QEATH3NODFM\n",
            "A1QOIHVQC5XWCJ\n",
            "AR3EVUQF0AC7R\n",
            "A3EX8ZFNVDHGPM\n",
            "A2WW57XX2UVLM6\n",
            "A1M7HP5CHDXXOU\n",
            "A1NAA1R38JSNHV\n",
            "A3TCMJ6GKZJFBQ\n",
            "A3VONQL7YW8UPM\n",
            "A7Z2J9V37ABCO\n",
            "A3S0EHEIR52HP1\n",
            "A2VJ5ALN1BIV3B\n",
            "A29KJ32G75L7G9\n",
            "A20951I210L0IB\n",
            "A4U27URFECK1U\n",
            "AW6FQE5QRF2LM\n",
            "A2NYOY6H42SORF\n",
            "AW5JSQCHC2ZJO\n",
            "A2SPV96SGOEO2\n",
            "A20L63B48RPSOH\n",
            "A1FOSIV4TWZFR7\n",
            "A25RTRAPQAJBDJ\n",
            "AWPN47SSWK1JV\n",
            "A3094EPI56GKZ6\n",
            "A368IPE6EW0GZL\n",
            "A2PREU4LOFQRB1\n",
            "AP53MVRC8ZEW2\n",
            "A2Q2A6JKY95RTP\n",
            "A195EZSQDW3E21\n",
            "A4GHPW9AAH1NY\n",
            "A3IJ4Z18FTIIP\n",
            "AOVTLYTHVDNUX\n",
            "A3D1TZH619NKHN\n",
            "A3872Y2XH0YDX1\n",
            "AKCZIJ6ZHE41D\n",
            "A13QOK3SKIT9QL\n",
            "A2PMR2PIGWKCQ9\n",
            "A2NU9H8H5MJZSL\n",
            "A1A535TCGNMVPI\n",
            "A2O6HZ2B9YSRXR\n",
            "A3VC74TJ06WDDD\n",
            "A3LPL35P7FH78Y\n",
            "AVSMRPI23DQI2\n",
            "A2JMJVNTBL7K7E\n",
            "A1CYTBE7LLUQ8F\n",
            "A2WF58BAWLVI95\n",
            "AC1YLEFC9AN5X\n",
            "A3QNQQKJTL76H0\n",
            "A3AVJCB1ZD6ZY5\n",
            "ASRA2UZ3JV87B\n",
            "A31HE83MU98GBV\n",
            "A1UCAVBNJUZMPR\n",
            "A29GWIJL72GXXZ\n",
            "AHD3NZHDUZ5I6\n",
            "A2NXRD80LWHUOP\n",
            "A28BX3MM90A6FI\n",
            "A1H55L0BLPCWYF\n",
            "A3UW23DBF2KHWC\n",
            "A34JKODTSKCGEN\n",
            "A2FZQF0MH29VYN\n",
            "A3VI2VETB90ZG5\n",
            "A2CL818RN52NWN\n",
            "A20H1M28WLI9J2\n",
            "AYNAH993VDECT\n",
            "A353U0L2HAMSHV\n",
            "A35KBAQ4VBNQ6L\n",
            "A1KKE6VX8VPWZK\n",
            "A1143YEAZYMYHJ\n",
            "A14X244VGHWPSX\n",
            "A2VH0UT5EQFB6P\n",
            "A3E9O1VNJ3U324\n",
            "A3JLOIXFM75QNV\n",
            "A1QOK9LU90ACF7\n",
            "A1OH33MR6K4G5J\n",
            "AJL3U764D7NI3\n",
            "A13EQE9EY2ET93\n",
            "A35Q0RBM3YNQNF\n",
            "A2WC9NFLG57W4H\n",
            "A2RG1B0K8YBJ4A\n",
            "A3F3B1JPACN215\n",
            "A2OOLI2WFY4L2\n",
            "A2OWR5G2OAQF7C\n",
            "AI0BCEWRE04G0\n",
            "A5A4374R8I7NB\n",
            "A3LDPF5FMB782Z\n",
            "A2JAEZ0FMAMJVW\n",
            "A1HFT68GJ42LTM\n",
            "A3S5WYWYKSAI9C\n",
            "ABQWMANK4AR63\n",
            "A1EVV74UQYVKRY\n",
            "A303SNZ4AR7TDQ\n",
            "A2NVQZ4Y7Y0J1R\n",
            "A3CKI6VEH0HBMJ\n",
            "A36IHC0K68NS2\n",
            "A2IMLOJ2Z2QEU2\n",
            "A3IJL9A50KVVZ1\n",
            "A3PDWA32BAMB2Y\n",
            "A3P1508PZ0UADD\n",
            "A2FRKEXDXDN1KI\n",
            "ARW8VGT10JG60\n",
            "A5GPH59NDWJRB\n",
            "A2AFTRU43PY9P5\n",
            "A2UWPPU5GZLMQZ\n",
            "A2ZFFSJ0VM6KSJ\n",
            "A292TRC6DX2GKK\n",
            "A1EQ5D5JRSW23K\n",
            "A2WPL6Y08K6ZQH\n",
            "A6XDZ1MJ0B1A2\n",
            "A1FMU4CJLIDHR9\n",
            "A1E3OB6QMBKRYZ\n",
            "ANEXFROORI6F6\n",
            "A1T7EHCMZ92TKC\n",
            "A3J3ZHGDUDPCFL\n",
            "A3HSDV9Y0TV5Z2\n",
            "A12EVK82QUTSA6\n",
            "A25WJCAP606YMP\n",
            "A2BIJMB2BITQUM\n",
            "A19NP8YYADOOSF\n",
            "A18L9A64XNGVGU\n",
            "A2ME89MSWVG9NF\n",
            "A31HOWJKEIY037\n",
            "A19XPAWSWDRI3B\n",
            "A2EHYCA29NSQLU\n",
            "AL5CUWBFBMWYQ\n",
            "A1UQUDT2Q0YENM\n",
            "A2Z1R98M2XOCEJ\n",
            "A27AF4DLLOBQDQ\n",
            "A3LDLV1GWQJLEQ\n",
            "A2YW6XOID7GV6G\n",
            "A22I55P15NSAOX\n",
            "AGLT3L7ALL4O4\n",
            "A2OT3PDH1AWLTG\n",
            "ARX0KOX5Q01BJ\n",
            "A1GW7V6S6XSXX3\n",
            "A2WXURU33RBGQS\n",
            "A2WCFDOCS73PNB\n",
            "A3GX0FAMEXV6FB\n",
            "A9DYWY9VOSP1P\n",
            "A3QD59N3M7O7KB\n",
            "A3D01HLSUFEZQY\n",
            "A3BNMHRW2R35LK\n",
            "A32AK8FOAZEPE2\n",
            "A11T807LX2EF00\n",
            "A1H0D7635GEEJ1\n",
            "AMRMK86X3PKXD\n",
            "ANTN61S4L7WG9\n",
            "A1FDSZISWIXH1A\n",
            "A2W2ODLRQ2L8LE\n",
            "A21VM9WVF8EOSJ\n",
            "A1TFDMY4YNTV97\n",
            "A10ZBR6O8S8OCY\n",
            "A2NT3W1F1XYBFZ\n",
            "A1K4G5YJDJQI6Q\n",
            "A2858RV2VLI14X\n",
            "AEN44U6T9R93\n",
            "A11OTLEDSW8ZXD\n",
            "A1MEISNED4NP7U\n",
            "AMS2CPERWN7JV\n",
            "A1NQFT941TOTT7\n",
            "A2Y739CRM15WDL\n",
            "A3BY5KCNQZXV5U\n",
            "A2ZFBTGPDP6PH6\n",
            "A1Z3598J0371ND\n",
            "A2ZGDHLJ85T6AD\n",
            "A1YEPFLLH42OU1\n",
            "A34C9AFFZOI45T\n",
            "A1UQBFCERIP7VJ\n",
            "AGR1V15L6FLMA\n",
            "APG2BHOAXPNEQ\n",
            "A20ZM879PCQQEZ\n",
            "A1S27P7KJO9I96\n",
            "A15U64VGUV6RBF\n",
            "AGGAQLXPVGM5D\n",
            "A23ZNGL704AW7O\n",
            "A296QED1MV1V0J\n",
            "A3EK2KTYHJCPB9\n",
            "A1MRRMHGV3PN5W\n",
            "A2S26YGSVXBCFL\n",
            "A307Y3LMCVEZS1\n",
            "AATWFX0ZZSE6C\n",
            "A2KZOIOFXXMC1H\n",
            "A1VOFY3QFT9WCG\n",
            "A1PVJICI412IN4\n",
            "A2Y4H3PXB07WQI\n",
            "ALQ4USPEQ9L5N\n",
            "A1YN5I4FINMBTI\n",
            "A84FLVDK2R5JF\n",
            "AVU1ILDDYW301\n",
            "A1USYP4AXF5I1D\n",
            "A781ITP3HE2N5\n",
            "A39K52QDP4C3ZS\n",
            "AS2II0671KT2C\n",
            "A1H7Y5XKPGT0OS\n",
            "A3RMEU4GNP60BM\n",
            "A1JZFGZEZVWQPY\n",
            "A30UP2KKD5IQEP\n",
            "AEIB3UR05OP7A\n",
            "A4D5B7Q8A7PA6\n",
            "A2POXR5VS3PHKR\n",
            "A3VTOLNB5N6FVP\n",
            "A2XIOXRRYX0KZY\n",
            "A2QRXQPHDMFCQV\n",
            "ANEDXRFDZDL18\n",
            "A3M7R4PD0FEPUB\n",
            "A23QII83UGZP5U\n",
            "AG6TX1ZJHLMO7\n",
            "A2VC48WIMY6L6E\n",
            "A8P6GIIQ6YQV8\n",
            "A141R97FHSSUQ0\n",
            "A33GNK4YENACDJ\n",
            "A328GLDSDNFYII\n",
            "A1AZQCVCDBQP6\n",
            "A2I18AO597DSDI\n",
            "A33CNFK776MTWR\n",
            "A3LQUEB84IR3VO\n",
            "A3KZ7OH4VRL048\n",
            "A361U4SXK7FCQE\n",
            "A51OFQVC6O5YL\n",
            "AQB4DH57MSZSC\n",
            "A2WA8TDCTGUADI\n",
            "A26KXNN6H1IL0I\n",
            "A3S5EXYZDEBF3K\n",
            "A2DXENZNO2JT4F\n",
            "A2H4OMJLE7JFM2\n",
            "A26EQ8U96JA92T\n",
            "A3HH340REI4J47\n",
            "A2X3L31KCXBHCL\n",
            "A2FHTXLKY1XJDB\n",
            "A3E3EQ39FZTZEK\n",
            "A1Z16630QMH8Q6\n",
            "A111WCUF5KA2I6\n",
            "AFFVUZEGP1FDQ\n",
            "A1G3DKT38DNZJP\n",
            "A1HBI9BBQIG1NH\n",
            "ACQYIC13JXAOI\n",
            "A3HCMJOGRRSAF2\n",
            "A2F2F7N94SR1KQ\n",
            "A18A5VSD0IPN14\n",
            "ASF3J4UYV34KA\n",
            "A1RCGK44YXNBBB\n",
            "A2SGAJWXG65464\n",
            "A1G650TTTHEAL5\n",
            "A18U49406IPPIJ\n",
            "A1P0JSFW184ZXJ\n",
            "A1CSRR7FCKBL9M\n",
            "A200RY2ELZL2Q3\n",
            "A2MJ8OL2FYN7CW\n",
            "A2DKQQIZ793AV5\n",
            "A2LTYEYGKBYXRR\n",
            "A2GOHNFBHUU3UI\n",
            "AGATRDOFW48DK\n",
            "A3J6Q0Y0SKY7AR\n",
            "A21GW4L8FO307V\n",
            "A12O5SEIF162P8\n",
            "A2U3OEIK1CUPIK\n",
            "A2XPK6XCL0UH1S\n",
            "A1RDHBBZE1NPS3\n",
            "A3QJU4FEN8PQSZ\n",
            "A2UKE7GIVC7XFW\n",
            "AS269J1OGZT1V\n",
            "A3QRW0UJPKIAX7\n",
            "A1J5HIF41ENSMZ\n",
            "A57Q87B0TC9IJ\n",
            "AGFSSC5DBY2HU\n",
            "A17NVM7IAPF2NS\n",
            "A15T9G38F589KM\n",
            "A379DLIAF0MFM5\n",
            "A3D5B2CBFNJB0K\n",
            "A2C8I2RQ0WG940\n",
            "AUCISQA1YXX86\n",
            "A7UPJYPAH73NC\n",
            "A3F8T3BRXRX5P3\n",
            "A1TY97ZGQT5FGF\n",
            "A31RULW0KNYJ5H\n",
            "A2NPN06SYI5VL3\n",
            "A17UNMURMLX0ZE\n",
            "A2L4ZGN7GZJ95T\n",
            "A1NRMTQ5SZPZA\n",
            "A30R8VFR16RE32\n",
            "A110PC8C5Y7MQD\n",
            "A2LB4FLRZG6CUV\n",
            "A3VVMIMMTYQV5F\n",
            "A2ZWJVKITA32OV\n",
            "A2OS3TIVAKUAHG\n",
            "A1GWG5CWLKJ7ET\n",
            "AXR3CV6A4FMBG\n",
            "AW63IRQWH10GF\n",
            "A27TN8D0CZ8LUY\n",
            "A3F7F7QKQP2FKT\n",
            "AYOTEJ617O60K\n",
            "A32O98PFC3OP7K\n",
            "A3MFORLOKIOEQY\n",
            "A2TVH2OBNXYXHV\n",
            "A10AFVU66A79Y1\n",
            "A1ZBEIL78MLR9Z\n",
            "A2KHG3JOFXQ4CE\n",
            "A10PEXB6XAQ5XF\n",
            "A1MNN0ZMHYPJDU\n",
            "A3KZEGBTPH6MMF\n",
            "A2RIXSMGE9VIBG\n",
            "AYGEKID3G7DPW\n",
            "A2KIJBT9HRIOM8\n",
            "AR18DH5SL9F73\n",
            "A1LD5SE8IZ1H70\n",
            "A2V9DTXTQ5YIMK\n",
            "A1KSNK256G46GX\n",
            "A2NN1KIYEM2SKS\n",
            "AVFJ327UXPXLF\n",
            "A3VBZDYGHF4NK8\n",
            "A3HQAPXAJV7PRX\n",
            "AM9APPMIE1BHZ\n",
            "A3UR2N0ATGBCU8\n",
            "A1IDAKX7OM3QIE\n",
            "A1ZPY91VE3IDN1\n",
            "A2W0XCWOK3MW6F\n",
            "AMO1MLSIJSQOF\n",
            "A2R1HUYHXV7H18\n",
            "A3R19YKNL641X3\n",
            "A95PWI4S6WHGL\n",
            "A1VQBEW0G4IH1J\n",
            "A34CKIMZ969UW7\n",
            "A3MMR2WDKAK0PA\n",
            "A1W415JP5WEAJK\n",
            "AGJRUK27RBVYS\n",
            "A3UKWQS8SRW6IO\n",
            "AMZCZBK1EF1PV\n",
            "AYLLSFYS3UP1H\n",
            "A1KI7YHQEOS1RB\n",
            "AL9WKVMRI6GFB\n",
            "A25KKXUQQ0OLWB\n",
            "AENULRBQ2IE5I\n",
            "A3EWJX7W1X7E79\n",
            "A19UTUEBWKIZFT\n",
            "A2XCCN239AR1XK\n",
            "A2SZLNSI5KOQJT\n",
            "A38V76R24EJSHA\n",
            "A3O4OIBCML0683\n",
            "A20UU20K7M9ZPF\n",
            "A2QNS95WGN35G9\n",
            "AKSQNMIKOU01H\n",
            "A2RGWCT6K2C3EZ\n",
            "A2CIQEY05SPHTZ\n",
            "A1W4F91DH3XPB2\n",
            "A3QQCEQ33O0GJU\n",
            "AP2NZAALUQKF5\n",
            "A3M7BCQKSQAK4L\n",
            "A27GITTN6AVW5I\n",
            "A1R76R4E6A8S3B\n",
            "A1IBKN1GXYJ3K4\n",
            "ASFW4ZMNZJKDA\n",
            "A11LNPG39A2ZV4\n",
            "A1WXG10FJ353K0\n",
            "A9LNWA25IM2DX\n",
            "AAXAKFQEAQPWC\n",
            "A2OTQMC69J8MUI\n",
            "ABMNX856X89CS\n",
            "A34BZM6S9L7QI4\n",
            "A1WUQF5HWBAQJU\n",
            "A3BKNXX8QFIXIV\n",
            "AOTZOHB2LZGYR\n",
            "A11I1I9QLMAM1A\n",
            "A17V9XL4CWTQ6G\n",
            "A3EHJ5519LG7TR\n",
            "A3AG5QAT8L0I3R\n",
            "A2LF16F0KX9L7P\n",
            "A2I6GN7OHB9JKF\n",
            "A26877IWJGISYM\n",
            "A226VGZWOEBPGL\n",
            "ASJZT7DM51QEM\n",
            "A105S56ODHGJEK\n",
            "A27ADCSD15F3GL\n",
            "A2M14CFAMF8J7I\n",
            "A25QJBK33C4O0R\n",
            "A2ROZACRW31PC2\n",
            "A10H24TDLK2VDP\n",
            "A28CCQNXWV6WA2\n",
            "A316XO4RWX21YN\n",
            "AW6J9IILGOZY3\n",
            "A267FU71Z01CIH\n",
            "A2BUQ240COLAOP\n",
            "A3N0P5AAMP6XD2\n",
            "A16J281SJ9QXIQ\n",
            "A3D0UM4ZD2CMAW\n",
            "A2503LT8PZIHAD\n",
            "A3J029KBNG5MNP\n",
            "A28N2AWOVO2PB\n",
            "A3SQCTNYQFVBWM\n",
            "ASCBJEPXTOU0V\n",
            "A1UTM65Y3G9HUL\n",
            "A2N3JSOIQ6ZNFL\n",
            "AQSV34W54L0VO\n",
            "ANTGGAQYPSWHF\n",
            "A1BVE2ZIBKJ7YI\n",
            "A1GBU479WXR7UG\n",
            "A1PI8VBCXXSGC7\n",
            "ABAPF3XY1W6JX\n",
            "AN9WA4C5E7YY5\n",
            "ANSVB7OYSXZSL\n",
            "A1R6RKKE44AYA8\n",
            "A1HBEQWSMVQEWJ\n",
            "AA91O96C1Z18W\n",
            "A36MP37DITBU6F\n",
            "A1GYEGLX3P2Y7P\n",
            "AYO1146CBIV5C\n",
            "A2JKM8KF3296CW\n",
            "ATMQEI1LKR6VB\n",
            "A2TMFC9O3ZCNKE\n",
            "A3EM243NDJ4DF3\n",
            "A2YEOR4XJ8N3QE\n",
            "AY3D7DG5L5WCK\n",
            "AM3XNQU9TZBD8\n",
            "A2CWIYIETNBAK3\n",
            "A247L282PID4PE\n",
            "A3KCKECEO3E2AN\n",
            "A2N75ADJSRW0AH\n",
            "AGEKVD8JPZQMT\n",
            "A3TNM3C9ENUCFW\n",
            "A2X695AM08AIN1\n",
            "A2ZY3S7SD3QO8Z\n",
            "A3FOSLM5G1BO63\n",
            "A3LZA698SQPCXE\n",
            "AN0JK8OQLUC55\n",
            "A1C47ROOK7BSVL\n",
            "A2JCJJNY43QQIV\n",
            "AIFLY2HF8NS8U\n",
            "AQCJWSMSURQI2\n",
            "A1HYH206E18XVC\n",
            "AA95DWUI3ODU\n",
            "A1YE1IK0JYSIIE\n",
            "A2J96FILPQA01\n",
            "A145B8OHVNNFAJ\n",
            "A1MBXP3NZM2BUO\n",
            "A3N4I2KRSMACW8\n",
            "A1BBYSMT9YCODI\n",
            "A3V2EZ6MA32FF6\n",
            "A3MV1KKHX51FYT\n",
            "A2IXK5LB4Y0NYV\n",
            "AC9QEWWN4W9MC\n",
            "A3F9CMU8KNAY1M\n",
            "A1PPS91NLI7KEH\n",
            "AO8NH0BV82XIE\n",
            "A34CSXOGVYF94S\n",
            "A3LDFTSXU3UPBO\n",
            "A26SO3TOT2TLJE\n",
            "A15J71JLC29KPW\n",
            "A2SR7S6ZJJDGNB\n",
            "AA3FTJYJYX55C\n",
            "A2T24Z5QP2OMXU\n",
            "A1DTCJV6KOMJOA\n",
            "A2M9ME0N2S3R39\n",
            "AYOMAHLWRQHUG\n",
            "A1UNJ46NSB352E\n",
            "A1ITRGMT80D5TK\n",
            "A18NDN2CIG2TKR\n",
            "A7FDGFK0KN7QG\n",
            "A1IU4UAV9QIJAI\n",
            "A30KPB2ILF6K6J\n",
            "A16C19G0I2DE8S\n",
            "AUUV3XDYB16X5\n",
            "A3DL29NLZ7SXXG\n",
            "A2UCDLO7V7DG6\n",
            "A2Q204DY2L7YRP\n",
            "A3E049PVKG7NDK\n",
            "A34DQINHT6NYJU\n",
            "A1H6SBO7R007I8\n",
            "A3JUHP1E3WUHEA\n",
            "A15Q2L6DYRTFIU\n",
            "ASJLXOX1VD4DF\n",
            "A1XEQGYY1IL8CD\n",
            "A110VKXAVLAYKY\n",
            "A3OIMUR42XIOFQ\n",
            "A2HV76MYH7UL3S\n",
            "ARTA78TP6H73D\n",
            "A35HOUWHAYZZN6\n",
            "A3MUSWDCTZINQZ\n",
            "A3OZA8HNJM26DC\n",
            "AO09RWV40IX78\n",
            "A2V2URLB31HG59\n",
            "A3FBM0RMCMAABV\n",
            "A1UMSB7LAW0RIR\n",
            "ACP9S40H3SHY1\n",
            "A1TR1R2QKWRSRA\n",
            "A1U11IP6K6NHAK\n",
            "A3JU990UTN5RQP\n",
            "A2VALCFTOWFYXZ\n",
            "A3223W5IROMYTY\n",
            "A319Y83RT0MRVR\n",
            "A3AZI828WJN1CD\n",
            "AT53ZTTO707MB\n",
            "A1X3ESYZ79H59E\n",
            "A328S9RN3U5M68\n",
            "A215WH6RUDUCMP\n",
            "A38C12950IM24P\n",
            "A2J4XMWKR8PPD0\n"
          ]
        }
      ],
      "source": [
        "# Find unique user_id where prod_id is not equal to \"1400501466\"\n",
        "\n",
        "# Filter the DataFrame to exclude rows with prod_id equal to \"1400501466\"\n",
        "users_not_seen_product = df_final[df_final['prod_id'] != '1400501466']\n",
        "\n",
        "# Get the unique user IDs from the filtered DataFrame\n",
        "unique_users_not_seen_product = users_not_seen_product['user_id'].unique()\n",
        "\n",
        "# Print the unique user IDs\n",
        "print(\"Unique User IDs who have not seen the product with prod_id '1400501466':\")\n",
        "for item in unique_users_not_seen_product:\n",
        "    print(item)"
      ]
    },
    {
      "cell_type": "markdown",
      "metadata": {
        "id": "KT42ecaSTsno"
      },
      "source": [
        "* It can be observed from the above list that **user \"A34BZM6S9L7QI4\" has not seen the product with productId \"1400501466\"** as this userId is a part of the above list."
      ]
    },
    {
      "cell_type": "markdown",
      "metadata": {
        "id": "EXSgq8OEnVNE"
      },
      "source": [
        "**Below we are predicting rating for `userId=A34BZM6S9L7QI4` and `prod_id=1400501466`.**"
      ]
    },
    {
      "cell_type": "code",
      "execution_count": null,
      "metadata": {
        "id": "PbFcBj1PpfEV",
        "colab": {
          "base_uri": "https://localhost:8080/"
        },
        "outputId": "a5988d55-57b9-497b-d2d7-6a729c8e22c2"
      },
      "outputs": [
        {
          "output_type": "stream",
          "name": "stdout",
          "text": [
            "Predicted Rating for User A34BZM6S9L7QI4 and Product 1400501466: 4.29\n"
          ]
        }
      ],
      "source": [
        "# Predicting rating for a sample user with a non interacted product\n",
        "\n",
        "# Sample user and product IDs\n",
        "user_id = 'A34BZM6S9L7QI4'\n",
        "product_id = '1400501466'\n",
        "\n",
        "# Predict the rating for the user and product\n",
        "predicted_rating = user_user_model.predict(user_id, product_id)\n",
        "\n",
        "# Extract the predicted rating value\n",
        "predicted_rating_value = predicted_rating.est\n",
        "\n",
        "# Print the predicted rating\n",
        "print(f\"Predicted Rating for User {user_id} and Product {product_id}: {predicted_rating_value:.2f}\")\n",
        "\n"
      ]
    },
    {
      "cell_type": "markdown",
      "metadata": {
        "id": "02rwld8yemRI"
      },
      "source": [
        "**Observations:**\n",
        "\n",
        "The user 'A34BZM6S9L7QI4' is likely to give a rating of around 4.29 to the product '1400501466'. Assuming 4.00 is positive we can recommend this product to the user"
      ]
    },
    {
      "cell_type": "markdown",
      "metadata": {
        "id": "ejjof6csnVNF"
      },
      "source": [
        "### **Improving similarity-based recommendation system by tuning its hyperparameters**"
      ]
    },
    {
      "cell_type": "markdown",
      "metadata": {
        "id": "p2j4VvfQnVNF"
      },
      "source": [
        "Below, we will be tuning hyperparameters for the `KNNBasic` algorithm. Let's try to understand some of the hyperparameters of the KNNBasic algorithm:\n",
        "\n",
        "- **k** (int) – The (max) number of neighbors to take into account for aggregation. Default is 40.\n",
        "- **min_k** (int) – The minimum number of neighbors to take into account for aggregation. If there are not enough neighbors, the prediction is set to the global mean of all ratings. Default is 1.\n",
        "- **sim_options** (dict) – A dictionary of options for the similarity measure. And there are four similarity measures available in surprise -\n",
        "    - cosine\n",
        "    - msd (default)\n",
        "    - Pearson\n",
        "    - Pearson baseline"
      ]
    },
    {
      "cell_type": "code",
      "execution_count": null,
      "metadata": {
        "id": "9LmPbSUSTsnp",
        "colab": {
          "base_uri": "https://localhost:8080/"
        },
        "outputId": "10437415-5417-40a2-bf70-f34914268c20"
      },
      "outputs": [
        {
          "output_type": "stream",
          "name": "stdout",
          "text": [
            "Best RMSE Score: 0.9686045392583081\n",
            "Best Parameters: {'rmse': {'k': 40, 'min_k': 5, 'sim_options': {'name': 'cosine', 'user_based': True}}}\n"
          ]
        }
      ],
      "source": [
        "# Setting up parameter grid to tune the hyperparameters\n",
        "\n",
        "param_grid = {\n",
        "    'k': [10, 20, 30, 40],         # Number of neighbors to consider\n",
        "    'min_k': [1, 2, 5],            # Minimum number of neighbors to consider\n",
        "    'sim_options': {\n",
        "        'name': ['cosine', 'msd', 'pearson', 'pearson_baseline'],  # Similarity measures\n",
        "        'user_based': [True]        # User-User similarity\n",
        "    }\n",
        "}\n",
        "\n",
        "# Performing 3-fold cross-validation to tune the hyperparameters\n",
        "grid_search = GridSearchCV(KNNBasic, param_grid, measures=['rmse'], cv=3, n_jobs=-1)\n",
        "\n",
        "# Fitting the data\n",
        "grid_search.fit(data)\n",
        "\n",
        "# Best RMSE score\n",
        "best_rmse = grid_search.best_score['rmse']\n",
        "\n",
        "# Combination of parameters that gave the best RMSE score\n",
        "best_params = grid_search.best_params\n",
        "\n",
        "# Print the results\n",
        "print(f\"Best RMSE Score: {best_rmse}\")\n",
        "print(f\"Best Parameters: {best_params}\")\n"
      ]
    },
    {
      "cell_type": "markdown",
      "metadata": {
        "id": "L2fHNvu7nVNF"
      },
      "source": [
        "Once the grid search is **complete**, we can get the **optimal values for each of those hyperparameters**."
      ]
    },
    {
      "cell_type": "markdown",
      "metadata": {
        "id": "NHWgxu_YnVNG"
      },
      "source": [
        "Now, let's build the **final model by using tuned values of the hyperparameters**, which we received by using **grid search cross-validation**."
      ]
    },
    {
      "cell_type": "code",
      "execution_count": null,
      "metadata": {
        "id": "PujRJA8X_JEJ",
        "colab": {
          "base_uri": "https://localhost:8080/"
        },
        "outputId": "7ab6439a-e305-4e24-dece-63507a454a01"
      },
      "outputs": [
        {
          "output_type": "stream",
          "name": "stdout",
          "text": [
            "Computing the cosine similarity matrix...\n",
            "Done computing similarity matrix.\n",
            "RMSE: 0.9553\n",
            "Precision:  0.855\n",
            "Recall:  0.885\n",
            "F_1 score:  0.87\n"
          ]
        }
      ],
      "source": [
        "# Using the optimal similarity measure for user-user based collaborative filtering\n",
        "\n",
        "# Creating an instance of KNNBasic with optimal hyperparameter values\n",
        "opt_user_user_model = KNNBasic(sim_options={'name': 'cosine', 'user_based': True}, k=40, min_k=3)\n",
        "\n",
        "# Training the algorithm on the trainset\n",
        "opt_user_user_model.fit(trainset)\n",
        "\n",
        "# Let us compute precision@k and recall@k also with k =10\n",
        "precision_recall_at_k(opt_user_user_model, k=10, threshold=3.5)\n"
      ]
    },
    {
      "cell_type": "markdown",
      "metadata": {
        "id": "yHsWvFjKTsnp"
      },
      "source": [
        "**Observations:**\n",
        "\n",
        "the final recommendation model demonstrates improved performance in terms of RMSE and F1 score."
      ]
    },
    {
      "cell_type": "markdown",
      "metadata": {
        "id": "YhcAXK0CnVNG"
      },
      "source": [
        "### **Steps:**\n",
        "- **Predict rating for the user with `userId=\"A3LDPF5FMB782Z\"`, and `prod_id= \"1400501466\"` using the optimized model**\n",
        "- **Predict rating for `userId=\"A34BZM6S9L7QI4\"` who has not interacted with `prod_id =\"1400501466\"`, by using the optimized model**\n",
        "- **Compare the output with the output from the baseline model**"
      ]
    },
    {
      "cell_type": "code",
      "execution_count": null,
      "metadata": {
        "id": "FgV63lHiq1TV",
        "colab": {
          "base_uri": "https://localhost:8080/"
        },
        "outputId": "65b31070-92e2-456b-82d8-ac4a91d8faad"
      },
      "outputs": [
        {
          "output_type": "stream",
          "name": "stdout",
          "text": [
            "Predicted Rating for User A3LDPF5FMB782Z and Product 1400501466: 3.40\n"
          ]
        }
      ],
      "source": [
        "# Use sim_user_user_optimized model to recommend for userId \"A3LDPF5FMB782Z\" and productId 1400501466\n",
        "\n",
        "user_id_1 = 'A3LDPF5FMB782Z'\n",
        "product_id_1 = '1400501466'\n",
        "\n",
        "# Predict the rating for the user and product using the optimized model\n",
        "predicted_rating_1 = opt_user_user_model.predict(user_id_1, product_id_1)\n",
        "\n",
        "# Extract the predicted rating value\n",
        "predicted_rating_value_1 = predicted_rating_1.est\n",
        "\n",
        "# Print the predicted rating\n",
        "print(f\"Predicted Rating for User {user_id_1} and Product {product_id_1}: {predicted_rating_value_1:.2f}\")"
      ]
    },
    {
      "cell_type": "code",
      "execution_count": null,
      "metadata": {
        "id": "HXO2Ztjhq1bN",
        "colab": {
          "base_uri": "https://localhost:8080/"
        },
        "outputId": "0d72962a-5703-4e2f-cddf-0cb80d0222a8"
      },
      "outputs": [
        {
          "output_type": "stream",
          "name": "stdout",
          "text": [
            "Predicted Rating for User A34BZM6S9L7QI4 and Product 1400501466: 4.29\n"
          ]
        }
      ],
      "source": [
        "# Use sim_user_user_optimized model to recommend for userId \"A34BZM6S9L7QI4\" and productId \"1400501466\"\n",
        "\n",
        "user_id_2 = 'A34BZM6S9L7QI4'\n",
        "product_id_2 = '1400501466'\n",
        "\n",
        "# Predict the rating for the user and product using the optimized model\n",
        "predicted_rating_2 = opt_user_user_model.predict(user_id_2, product_id_2)\n",
        "\n",
        "# Extract the predicted rating value\n",
        "predicted_rating_value_2 = predicted_rating_2.est\n",
        "\n",
        "# Print the predicted rating\n",
        "print(f\"Predicted Rating for User {user_id_2} and Product {product_id_2}: {predicted_rating_value_2:.2f}\")"
      ]
    },
    {
      "cell_type": "markdown",
      "metadata": {
        "id": "s5i-OPprNF2e"
      },
      "source": [
        "**Observations:**____________\n",
        "\n",
        "We can see an improvment on the new model compared with the previous, may indicate that the user-user recommendation system is better at capturing the user preferences."
      ]
    },
    {
      "cell_type": "markdown",
      "metadata": {
        "id": "op_zwO_FnVNH"
      },
      "source": [
        "### **Identifying similar users to a given user (nearest neighbors)**"
      ]
    },
    {
      "cell_type": "markdown",
      "metadata": {
        "id": "o2QsfqhanVNH"
      },
      "source": [
        "We can also find out **similar users to a given user** or its **nearest neighbors** based on this KNNBasic algorithm. Below, we are finding the 5 most similar users to the first user in the list with internal id 0, based on the `msd` distance metric."
      ]
    },
    {
      "cell_type": "code",
      "execution_count": null,
      "metadata": {
        "id": "TbFle7cKmBJG",
        "colab": {
          "base_uri": "https://localhost:8080/"
        },
        "outputId": "f1b3b55d-4d94-4ffb-ca4f-6da2bb2543f8"
      },
      "outputs": [
        {
          "output_type": "stream",
          "name": "stdout",
          "text": [
            "The 5 most similar users to user with inner ID 0: [6, 7, 17, 26, 32]\n"
          ]
        }
      ],
      "source": [
        "# 0 is the inner id of the above user\n",
        "\n",
        "# Find the k-nearest neighbors for the target user using the existing model\n",
        "k_nearest_neighbors = opt_user_user_model.get_neighbors(0, k=5)\n",
        "\n",
        "# Print the IDs of the k-nearest neighbors\n",
        "print(f\"The 5 most similar users to user with inner ID {0}: {k_nearest_neighbors}\")"
      ]
    },
    {
      "cell_type": "markdown",
      "metadata": {
        "id": "Z0NsrX_anVNH"
      },
      "source": [
        "### **Implementing the recommendation algorithm based on optimized KNNBasic model**"
      ]
    },
    {
      "cell_type": "markdown",
      "metadata": {
        "id": "U3ESobDynVNI"
      },
      "source": [
        "Below we will be implementing a function where the input parameters are:\n",
        "\n",
        "- data: A **rating** dataset\n",
        "- user_id: A user id **against which we want the recommendations**\n",
        "- top_n: The **number of products we want to recommend**\n",
        "- algo: the algorithm we want to use **for predicting the ratings**\n",
        "- The output of the function is a **set of top_n items** recommended for the given user_id based on the given algorithm"
      ]
    },
    {
      "cell_type": "code",
      "execution_count": null,
      "metadata": {
        "id": "vW9V1Tk65HlY"
      },
      "outputs": [],
      "source": [
        "def get_recommendations(data, user_id, top_n, algo):\n",
        "\n",
        "    # Creating an empty list to store the recommended product ids\n",
        "    recommendations = []\n",
        "\n",
        "    # Creating an user item interactions matrix\n",
        "    user_item_interactions_matrix = data.pivot(index = 'user_id', columns = 'prod_id', values = 'rating')\n",
        "\n",
        "    # Extracting those product ids which the user_id has not interacted yet\n",
        "    non_interacted_products = user_item_interactions_matrix.loc[user_id][user_item_interactions_matrix.loc[user_id].isnull()].index.tolist()\n",
        "\n",
        "    # Looping through each of the product ids which user_id has not interacted yet\n",
        "    for item_id in non_interacted_products:\n",
        "\n",
        "        # Predicting the ratings for those non interacted product ids by this user\n",
        "        est = algo.predict(user_id, item_id).est\n",
        "\n",
        "        # Appending the predicted ratings\n",
        "        recommendations.append((item_id, est))\n",
        "\n",
        "    # Sorting the predicted ratings in descending order\n",
        "    recommendations.sort(key = lambda x: x[1], reverse = True)\n",
        "\n",
        "    return recommendations[:top_n] # Returing top n highest predicted rating products for this user"
      ]
    },
    {
      "cell_type": "markdown",
      "metadata": {
        "id": "Oj_S7kh4nVNI"
      },
      "source": [
        "**Predicting top 5 products for userId = \"A3LDPF5FMB782Z\" with similarity based recommendation system**"
      ]
    },
    {
      "cell_type": "code",
      "execution_count": null,
      "metadata": {
        "id": "qWbR85mI5Hrk",
        "colab": {
          "base_uri": "https://localhost:8080/"
        },
        "outputId": "d514bc01-72f1-4141-a0cc-ce9e5e14ec83"
      },
      "outputs": [
        {
          "output_type": "stream",
          "name": "stdout",
          "text": [
            "Top 5 Recommended Items for User A3LDPF5FMB782Z:\n",
            "Product ID: B00005LENO, Predicted Rating: 5\n",
            "Product ID: B000067RT6, Predicted Rating: 5\n",
            "Product ID: B00006HSML, Predicted Rating: 5\n",
            "Product ID: B00006I53X, Predicted Rating: 5\n",
            "Product ID: B00006I5J7, Predicted Rating: 5\n"
          ]
        }
      ],
      "source": [
        "# Making top 5 recommendations for user_id \"A3LDPF5FMB782Z\" with a similarity-based recommendation engine\n",
        "# Define the user_id for which you want to make recommendations\n",
        "user_id = \"A3LDPF5FMB782Z\"\n",
        "\n",
        "# Define the number of top recommendations you want (e.g., top 5)\n",
        "top_n =5\n",
        "\n",
        "recommendations = get_recommendations(df_final, user_id, top_n, opt_user_user_model)\n",
        "\n",
        "# Print the recommended items and their predicted ratings\n",
        "print(f\"Top {top_n} Recommended Items for User {user_id}:\")\n",
        "for item_id, estimated_rating in recommendations:\n",
        "    print(f\"Product ID: {item_id}, Predicted Rating: {estimated_rating}\")\n"
      ]
    },
    {
      "cell_type": "code",
      "execution_count": null,
      "metadata": {
        "id": "b5WfIX0Z6_q2",
        "colab": {
          "base_uri": "https://localhost:8080/"
        },
        "outputId": "5c11d6db-e786-4485-b441-b39006c5e9d6"
      },
      "outputs": [
        {
          "output_type": "stream",
          "name": "stdout",
          "text": [
            "      prod_id  predicted_ratings\n",
            "0  B00005LENO                  5\n",
            "1  B000067RT6                  5\n",
            "2  B00006HSML                  5\n",
            "3  B00006I53X                  5\n",
            "4  B00006I5J7                  5\n"
          ]
        }
      ],
      "source": [
        "# Building the dataframe for above recommendations with columns \"prod_id\" and \"predicted_ratings\"\n",
        "\n",
        "# Create a list of dictionaries with \"prod_id\" and \"predicted_ratings\"\n",
        "recommendations_list = [{\"prod_id\": product_id, \"predicted_ratings\": estimated_rating} for product_id, estimated_rating in recommendations]\n",
        "\n",
        "# Convert the list of dictionaries into a DataFrame\n",
        "recommendations_df = pd.DataFrame(recommendations_list)\n",
        "\n",
        "# Print the DataFrame\n",
        "print(recommendations_df)"
      ]
    },
    {
      "cell_type": "markdown",
      "metadata": {
        "id": "QgbzJKk7Tsnr"
      },
      "source": [
        "### **Item-Item Similarity-based Collaborative Filtering Recommendation System**"
      ]
    },
    {
      "cell_type": "markdown",
      "metadata": {
        "id": "qTJu_2hcTsnr"
      },
      "source": [
        "* Above we have seen **similarity-based collaborative filtering** where similarity is calculated **between users**. Now let us look into similarity-based collaborative filtering where similarity is seen **between items**."
      ]
    },
    {
      "cell_type": "code",
      "execution_count": null,
      "metadata": {
        "id": "W5RMcdzjTsns",
        "scrolled": false,
        "colab": {
          "base_uri": "https://localhost:8080/"
        },
        "outputId": "cfb0e65f-bbfb-4e72-97bc-3223dbedcdec"
      },
      "outputs": [
        {
          "output_type": "stream",
          "name": "stdout",
          "text": [
            "Computing the cosine similarity matrix...\n",
            "Done computing similarity matrix.\n",
            "RMSE: 0.9950\n",
            "Precision:  0.838\n",
            "Recall:  0.845\n",
            "F_1 score:  0.841\n"
          ]
        }
      ],
      "source": [
        "# Declare the similarity options for item-item similarity\n",
        "sim_options = {\n",
        "    'name': 'cosine',  # You can choose a different similarity measure if desired\n",
        "    'user_based': False  # We want item-item similarity, so set to False\n",
        "}\n",
        "\n",
        "# Create an instance of KNNBasic with the similarity options\n",
        "item_item_model = KNNBasic(sim_options=sim_options, random_state=1)\n",
        "\n",
        "# Train the item-item model on the trainset\n",
        "item_item_model.fit(trainset)\n",
        "\n",
        "# Make predictions on the testset\n",
        "test_predictions = item_item_model.test(testset)\n",
        "\n",
        "# Calculate and print RMSE\n",
        "precision_recall_at_k(item_item_model, k=10, threshold=3.5)\n"
      ]
    },
    {
      "cell_type": "markdown",
      "metadata": {
        "id": "ni9LoeUVTsns"
      },
      "source": [
        "**Observations:**____________\n",
        "\n",
        "This model has a lower RMSE, suggesting slightly more accurate predictions.\n",
        "However the User-User model slightly outperforms in temrs of precision, recall and F1 scores. Which means more relevants recommendations"
      ]
    },
    {
      "cell_type": "markdown",
      "metadata": {
        "id": "jFbcDQmxTsns"
      },
      "source": [
        "Let's now **predict a rating for a user with `userId = A3LDPF5FMB782Z` and `prod_Id = 1400501466`** as shown below. Here the user has already interacted or watched the product with productId \"1400501466\"."
      ]
    },
    {
      "cell_type": "code",
      "execution_count": null,
      "metadata": {
        "id": "JsF-aaWYTsns",
        "colab": {
          "base_uri": "https://localhost:8080/"
        },
        "outputId": "6a960071-d18c-4f22-bac3-410d1fb9c2d1"
      },
      "outputs": [
        {
          "output_type": "stream",
          "name": "stdout",
          "text": [
            "Predicted Rating for User A3LDPF5FMB782Z and Product 1400501466: 4.27\n"
          ]
        }
      ],
      "source": [
        "# Predicting rating for a sample user with an interacted product\n",
        "\n",
        "user_id_to_predict = \"A3LDPF5FMB782Z\"\n",
        "product_id_to_predict = \"1400501466\"\n",
        "\n",
        "# Predicting the rating for the user and product using item_item_model\n",
        "predicted_rating = item_item_model.predict(user_id_to_predict, product_id_to_predict).est\n",
        "\n",
        "# Print the predicted rating\n",
        "print(f\"Predicted Rating for User {user_id_to_predict} and Product {product_id_to_predict}: {predicted_rating:.2f}\")"
      ]
    },
    {
      "cell_type": "markdown",
      "metadata": {
        "id": "2h0OyDMFTsns"
      },
      "source": [
        "**Observations:**____________\n",
        "\n",
        "The model predicts a rating of 4.27 for this specific user-product interaction. This suggests that, this model gives a higher predicted rating for this user and product\n"
      ]
    },
    {
      "cell_type": "markdown",
      "metadata": {
        "id": "BqKGZoAtTsns"
      },
      "source": [
        "Below we are **predicting rating for the `userId = A34BZM6S9L7QI4` and `prod_id = 1400501466`**."
      ]
    },
    {
      "cell_type": "code",
      "execution_count": null,
      "metadata": {
        "id": "5yILOxXRTsns",
        "colab": {
          "base_uri": "https://localhost:8080/"
        },
        "outputId": "4b1059e5-047f-4d47-f0a0-597586fcee78"
      },
      "outputs": [
        {
          "output_type": "stream",
          "name": "stdout",
          "text": [
            "Predicted Rating for User A34BZM6S9L7QI4 and Product 1400501466: 4.29\n"
          ]
        }
      ],
      "source": [
        "# Predicting rating for a sample user with a non interacted product\n",
        "\n",
        "user_id_to_predict = \"A34BZM6S9L7QI4\"\n",
        "product_id_to_predict = \"1400501466\"\n",
        "\n",
        "# Predicting the rating for the user and product using the selected model\n",
        "predicted_rating = item_item_model.predict(user_id_to_predict, product_id_to_predict).est\n",
        "\n",
        "# Print the predicted rating\n",
        "print(f\"Predicted Rating for User {user_id_to_predict} and Product {product_id_to_predict}: {predicted_rating:.2f}\")"
      ]
    },
    {
      "cell_type": "markdown",
      "metadata": {
        "id": "sDKaAveJTsns"
      },
      "source": [
        "**Observations:**____________\n",
        "\n",
        "The model predicts a rating of 4.27 for this specific user-product interaction. This suggests that, this model gives the same predicted rating for this user and product"
      ]
    },
    {
      "cell_type": "markdown",
      "metadata": {
        "id": "meSvpNLj_EjD"
      },
      "source": [
        "### **Hyperparameter tuning the item-item similarity-based model**\n",
        "- Use the following values for the param_grid and tune the model.\n",
        "  - 'k': [10, 20, 30]\n",
        "  - 'min_k': [3, 6, 9]\n",
        "  - 'sim_options': {'name': ['msd', 'cosine']\n",
        "  - 'user_based': [False]\n",
        "- Use GridSearchCV() to tune the model using the 'rmse' measure\n",
        "- Print the best score and best parameters"
      ]
    },
    {
      "cell_type": "code",
      "execution_count": null,
      "metadata": {
        "id": "f5bcZ3HgTsnt",
        "colab": {
          "base_uri": "https://localhost:8080/"
        },
        "outputId": "667b72c2-4c81-4ae7-dda0-935c437c4f75"
      },
      "outputs": [
        {
          "output_type": "stream",
          "name": "stdout",
          "text": [
            "Best RMSE Score: 0.9748563340223049\n",
            "Best Parameters: {'rmse': {'k': 30, 'min_k': 6, 'sim_options': {'name': 'msd', 'user_based': False}}}\n"
          ]
        }
      ],
      "source": [
        "# Setting up parameter grid to tune the hyperparameters\n",
        "\n",
        "param_grid = {\n",
        "    'k': [10, 20, 30],         # Number of neighbors to consider\n",
        "    'min_k': [3, 6, 9],            # Minimum number of neighbors to consider\n",
        "    'sim_options': {\n",
        "        'name': ['cosine', 'msd'],  # Similarity measures\n",
        "        'user_based': [False]        # User-User similarity\n",
        "    }\n",
        "}\n",
        "\n",
        "# Performing 3-fold cross validation to tune the hyperparameters\n",
        "\n",
        "grid_search = GridSearchCV(KNNBasic, param_grid, measures=['rmse'], cv=3, n_jobs=-1)\n",
        "\n",
        "# Fitting the data\n",
        "\n",
        "grid_search.fit(data)\n",
        "\n",
        "# Find the best RMSE score\n",
        "\n",
        "best_rmse = grid_search.best_score['rmse']\n",
        "\n",
        "# Find the combination of parameters that gave the best RMSE score\n",
        "\n",
        "best_params = grid_search.best_params\n",
        "\n",
        "# Print the results\n",
        "print(f\"Best RMSE Score: {best_rmse}\")\n",
        "print(f\"Best Parameters: {best_params}\")"
      ]
    },
    {
      "cell_type": "markdown",
      "metadata": {
        "id": "1psOlx6zTsnt"
      },
      "source": [
        "Once the **grid search** is complete, we can get the **optimal values for each of those hyperparameters as shown above.**"
      ]
    },
    {
      "cell_type": "markdown",
      "metadata": {
        "id": "JrSTaQemTsnt"
      },
      "source": [
        "Now let's build the **final model** by using **tuned values of the hyperparameters** which we received by using grid search cross-validation."
      ]
    },
    {
      "cell_type": "markdown",
      "metadata": {
        "id": "kOS9Dwnd_LN6"
      },
      "source": [
        "### **Use the best parameters from GridSearchCV to build the optimized item-item similarity-based model. Compare the performance of the optimized model with the baseline model.**"
      ]
    },
    {
      "cell_type": "code",
      "execution_count": null,
      "metadata": {
        "id": "dSeiM1qeTsnt",
        "colab": {
          "base_uri": "https://localhost:8080/"
        },
        "outputId": "747ea779-429a-4b45-e3d9-6014e04d0e57"
      },
      "outputs": [
        {
          "output_type": "stream",
          "name": "stdout",
          "text": [
            "Computing the msd similarity matrix...\n",
            "Done computing similarity matrix.\n",
            "RMSE: 0.9576\n",
            "Precision:  0.839\n",
            "Recall:  0.88\n",
            "F_1 score:  0.859\n"
          ]
        }
      ],
      "source": [
        "# Using the optimal similarity measure for item-item based collaborative filtering\n",
        "\n",
        "# Creating an instance of KNNBasic with optimal hyperparameter values\n",
        "opt_item_item_model = KNNBasic(sim_options={'name': 'msd', 'user_based': False}, k=30, min_k=6)\n",
        "\n",
        "# Training the algorithm on the trainset\n",
        "opt_item_item_model.fit(trainset)\n",
        "\n",
        "# Let us compute precision@k and recall@k also with k =10\n",
        "precision_recall_at_k(opt_item_item_model, k=10, threshold=3.5)\n"
      ]
    },
    {
      "cell_type": "markdown",
      "metadata": {
        "id": "ZCXKnMI8Tsnt"
      },
      "source": [
        "**Observations:**\n",
        "All metrics improved in relation to the previous item_item_model"
      ]
    },
    {
      "cell_type": "markdown",
      "metadata": {
        "id": "Sbcj_H94Tsnt"
      },
      "source": [
        "### **Steps:**\n",
        "- **Predict rating for the user with `userId=\"A3LDPF5FMB782Z\"`, and `prod_id= \"1400501466\"` using the optimized model**\n",
        "- **Predict rating for `userId=\"A34BZM6S9L7QI4\"` who has not interacted with `prod_id =\"1400501466\"`, by using the optimized model**\n",
        "- **Compare the output with the output from the baseline model**"
      ]
    },
    {
      "cell_type": "code",
      "execution_count": null,
      "metadata": {
        "id": "gIBRRvdoTsnt",
        "colab": {
          "base_uri": "https://localhost:8080/"
        },
        "outputId": "af7c35a5-c2be-49d5-f06b-cd5972ca653f"
      },
      "outputs": [
        {
          "output_type": "stream",
          "name": "stdout",
          "text": [
            "Predicted Rating for User A3LDPF5FMB782Z and Product 1400501466: 4.67\n"
          ]
        }
      ],
      "source": [
        "# Use opt_item_item_optimized model to recommend for userId \"A3LDPF5FMB782Z\" and productId \"1400501466\"\n",
        "\n",
        "# Predicting rating for a sample user with a non interacted product\n",
        "\n",
        "user_id_to_predict = \"A3LDPF5FMB782Z\"\n",
        "product_id_to_predict = \"1400501466\"\n",
        "\n",
        "# Predicting the rating for the user and product using the selected model\n",
        "predicted_rating = opt_item_item_model.predict(user_id_to_predict, product_id_to_predict).est\n",
        "\n",
        "# Print the predicted rating\n",
        "print(f\"Predicted Rating for User {user_id_to_predict} and Product {product_id_to_predict}: {predicted_rating:.2f}\")\n"
      ]
    },
    {
      "cell_type": "code",
      "execution_count": null,
      "metadata": {
        "colab": {
          "base_uri": "https://localhost:8080/"
        },
        "id": "nsIJl4FavmBp",
        "outputId": "c61c5975-1883-43d7-fcc2-38607bdf61d1"
      },
      "outputs": [
        {
          "output_type": "stream",
          "name": "stdout",
          "text": [
            "Predicted Rating for User A34BZM6S9L7QI4 and Product 1400501466: 4.29\n"
          ]
        }
      ],
      "source": [
        "# Use sim_item_item_optimized model to recommend for userId \"A34BZM6S9L7QI4\" and productId \"1400501466\"\n",
        "\n",
        "# Predicting rating for a sample user with a non interacted product\n",
        "\n",
        "user_id_to_predict = \"A34BZM6S9L7QI4\"\n",
        "product_id_to_predict = \"1400501466\"\n",
        "\n",
        "# Predicting the rating for the user and product using the selected model\n",
        "predicted_rating = opt_item_item_model.predict(user_id_to_predict, product_id_to_predict).est\n",
        "\n",
        "# Print the predicted rating\n",
        "print(f\"Predicted Rating for User {user_id_to_predict} and Product {product_id_to_predict}: {predicted_rating:.2f}\")"
      ]
    },
    {
      "cell_type": "markdown",
      "metadata": {
        "id": "D8gQNfx6vmBp"
      },
      "source": [
        "**Observations:**\n",
        "\n",
        "For the first prediction, the model is indicating an even higher rating for the product, the 2nd prediction is the same\n"
      ]
    },
    {
      "cell_type": "markdown",
      "metadata": {
        "id": "MDlNB7tnTsnu"
      },
      "source": [
        "### **Identifying similar items to a given item (nearest neighbors)**"
      ]
    },
    {
      "cell_type": "markdown",
      "metadata": {
        "id": "RLdDiFA6Tsnu"
      },
      "source": [
        "We can also find out **similar items** to a given item or its nearest neighbors based on this **KNNBasic algorithm**. Below we are finding the 5 most similar items to the item with internal id 0 based on the `msd` distance metric."
      ]
    },
    {
      "cell_type": "markdown",
      "metadata": {
        "id": "TSXRYmrjvmBq"
      },
      "source": [
        "**Predicting top 5 products for userId = \"A1A5KUIIIHFF4U\" with similarity based recommendation system.**\n",
        "\n",
        "**Hint:** Use the get_recommendations() function."
      ]
    },
    {
      "cell_type": "code",
      "execution_count": null,
      "metadata": {
        "id": "rzoEbuZFTsnu",
        "colab": {
          "base_uri": "https://localhost:8080/"
        },
        "outputId": "c98fe841-02b9-478b-e849-8f482507a582"
      },
      "outputs": [
        {
          "output_type": "stream",
          "name": "stdout",
          "text": [
            "Top 5 Recommended Items for User A1A5KUIIIHFF4U:\n",
            "Product ID: 1400532655, Predicted Rating: 4.292024046561495\n",
            "Product ID: 1400599997, Predicted Rating: 4.292024046561495\n",
            "Product ID: 9983891212, Predicted Rating: 4.292024046561495\n",
            "Product ID: B00000DM9W, Predicted Rating: 4.292024046561495\n",
            "Product ID: B00000J1V5, Predicted Rating: 4.292024046561495\n"
          ]
        }
      ],
      "source": [
        "# Making top 5 recommendations for user_id A1A5KUIIIHFF4U with similarity-based recommendation engine.\n",
        "\n",
        "# Define the user_id for which you want to make recommendations\n",
        "user_id = \"A1A5KUIIIHFF4U\"\n",
        "\n",
        "# Define the number of top recommendations you want (e.g., top 5)\n",
        "top_n = 5\n",
        "\n",
        "recommendations = get_recommendations(df_final, user_id, top_n, opt_item_item_model)\n",
        "\n",
        "# Print the recommended items and their predicted ratings\n",
        "print(f\"Top {top_n} Recommended Items for User {user_id}:\")\n",
        "for item_id, estimated_rating in recommendations:\n",
        "    print(f\"Product ID: {item_id}, Predicted Rating: {estimated_rating}\")\n"
      ]
    },
    {
      "cell_type": "code",
      "execution_count": null,
      "metadata": {
        "id": "_kXVTiysTsnv",
        "colab": {
          "base_uri": "https://localhost:8080/"
        },
        "outputId": "90b260dc-5bc1-47f1-8fad-cba60be0bacb"
      },
      "outputs": [
        {
          "output_type": "stream",
          "name": "stdout",
          "text": [
            "      prod_id  predicted_ratings\n",
            "0  1400532655           4.292024\n",
            "1  1400599997           4.292024\n",
            "2  9983891212           4.292024\n",
            "3  B00000DM9W           4.292024\n",
            "4  B00000J1V5           4.292024\n"
          ]
        }
      ],
      "source": [
        "# Building the dataframe for above recommendations with columns \"prod_id\" and \"predicted_ratings\"\n",
        "\n",
        "# Create a list of dictionaries with \"prod_id\" and \"predicted_ratings\"\n",
        "recommendations_list = [{\"prod_id\": product_id, \"predicted_ratings\": estimated_rating} for product_id, estimated_rating in recommendations]\n",
        "\n",
        "# Convert the list of dictionaries into a DataFrame\n",
        "recommendations_df = pd.DataFrame(recommendations_list)\n",
        "\n",
        "# Print the DataFrame\n",
        "print(recommendations_df)"
      ]
    },
    {
      "cell_type": "markdown",
      "metadata": {
        "id": "DHzmYvs0Tsnv"
      },
      "source": [
        "Now as we have seen **similarity-based collaborative filtering algorithms**, let us now get into **model-based collaborative filtering algorithms**."
      ]
    },
    {
      "cell_type": "markdown",
      "metadata": {
        "id": "rKgJpSA9vOOL"
      },
      "source": [
        "### **Model 3: Model-Based Collaborative Filtering - Matrix Factorization**"
      ]
    },
    {
      "cell_type": "markdown",
      "metadata": {
        "id": "YF6ZGyqhCAob"
      },
      "source": [
        "Model-based Collaborative Filtering is a **personalized recommendation system**, the recommendations are based on the past behavior of the user and it is not dependent on any additional information. We use **latent features** to find recommendations for each user."
      ]
    },
    {
      "cell_type": "markdown",
      "metadata": {
        "id": "n4Otha8ovOOL"
      },
      "source": [
        "### Singular Value Decomposition (SVD)"
      ]
    },
    {
      "cell_type": "markdown",
      "metadata": {
        "id": "3sGl3QkLvOOL"
      },
      "source": [
        "SVD is used to **compute the latent features** from the **user-item matrix**. But SVD does not work when we **miss values** in the **user-item matrix**."
      ]
    },
    {
      "cell_type": "code",
      "execution_count": null,
      "metadata": {
        "id": "07-2PT5Ssjqm",
        "colab": {
          "base_uri": "https://localhost:8080/"
        },
        "outputId": "04fcf5fb-ae5e-44c1-805c-0df6d708036e"
      },
      "outputs": [
        {
          "output_type": "stream",
          "name": "stdout",
          "text": [
            "RMSE: 0.8882\n",
            "Precision:  0.853\n",
            "Recall:  0.88\n",
            "F_1 score:  0.866\n"
          ]
        }
      ],
      "source": [
        "# Using SVD matrix factorization. Use random_state = 1\n",
        "\n",
        "svd_model = SVD(random_state=1)\n",
        "\n",
        "# Training the algorithm on the trainset\n",
        "svd_model.fit(trainset)\n",
        "\n",
        "# Use the function precision_recall_at_k to compute precision@k, recall@k, F1-Score, and RMSE\n",
        "\n",
        "precision_recall_at_k(svd_model, k=10, threshold=3.5)\n"
      ]
    },
    {
      "cell_type": "markdown",
      "metadata": {
        "id": "BQ6fTuCDnVNL"
      },
      "source": [
        "**Observations:**\n",
        "\n",
        "The SVD model has a low RMSE and good precision, recall and F1."
      ]
    },
    {
      "cell_type": "markdown",
      "metadata": {
        "id": "ZRTB2wTZvmBt"
      },
      "source": [
        "**Let's now predict the rating for a user with `userId = \"A3LDPF5FMB782Z\"` and `prod_id = \"1400501466`.**"
      ]
    },
    {
      "cell_type": "code",
      "execution_count": null,
      "metadata": {
        "id": "yWIhfdxXsjqm",
        "colab": {
          "base_uri": "https://localhost:8080/"
        },
        "outputId": "42b47c2f-0e84-49d4-c490-f67d42d0a799"
      },
      "outputs": [
        {
          "output_type": "stream",
          "name": "stdout",
          "text": [
            "Predicted Rating for User A3LDPF5FMB782Z and Product 1400501466 : 4.081406749810685\n"
          ]
        }
      ],
      "source": [
        "# Making prediction\n",
        "\n",
        "user_id = 'A3LDPF5FMB782Z'\n",
        "prod_id = '1400501466'\n",
        "\n",
        "# Predict the rating using the trained SVD model\n",
        "predicted_rating = svd_model.predict(user_id, prod_id).est\n",
        "\n",
        "print(\"Predicted Rating for User\", user_id, \"and Product\", prod_id, \":\", predicted_rating)\n"
      ]
    },
    {
      "cell_type": "markdown",
      "metadata": {
        "id": "oIjzqDY5nVNM"
      },
      "source": [
        "**Observations:**\n",
        "The model had a different rating than the previous ones."
      ]
    },
    {
      "cell_type": "markdown",
      "metadata": {
        "id": "I1aYxVeMnVNM"
      },
      "source": [
        "**Below we are predicting rating for the `userId = \"A34BZM6S9L7QI4\"` and `productId = \"1400501466\"`.**"
      ]
    },
    {
      "cell_type": "code",
      "execution_count": null,
      "metadata": {
        "id": "APm-uMSvcAMf",
        "colab": {
          "base_uri": "https://localhost:8080/"
        },
        "outputId": "afce7e3c-a42c-48ca-fb35-2bc1a518e3cf"
      },
      "outputs": [
        {
          "output_type": "stream",
          "name": "stdout",
          "text": [
            "Predicted Rating for User A34BZM6S9L7QI4 and Product 1400501466 : 4.40037568046934\n"
          ]
        }
      ],
      "source": [
        "# Making prediction\n",
        "\n",
        "user_id = 'A34BZM6S9L7QI4'\n",
        "prod_id = '1400501466'\n",
        "\n",
        "# Predict the rating using the trained SVD model\n",
        "predicted_rating = svd_model.predict(user_id, prod_id).est\n",
        "\n",
        "print(\"Predicted Rating for User\", user_id, \"and Product\", prod_id, \":\", predicted_rating)"
      ]
    },
    {
      "cell_type": "markdown",
      "metadata": {
        "id": "NEL6dy3wnVNM"
      },
      "source": [
        "**Observations:**\n",
        "The model had a different rating than the previous ones.\n"
      ]
    },
    {
      "cell_type": "markdown",
      "metadata": {
        "id": "x13Eb9Owvpcw"
      },
      "source": [
        "### **Improving Matrix Factorization based recommendation system by tuning its hyperparameters**"
      ]
    },
    {
      "cell_type": "markdown",
      "metadata": {
        "id": "iQcDPhhcnVNN"
      },
      "source": [
        "Below we will be tuning only three hyperparameters:\n",
        "- **n_epochs**: The number of iterations of the SGD algorithm.\n",
        "- **lr_all**: The learning rate for all parameters.\n",
        "- **reg_all**: The regularization term for all parameters."
      ]
    },
    {
      "cell_type": "code",
      "execution_count": null,
      "metadata": {
        "id": "4bM81V_hvtwv",
        "colab": {
          "base_uri": "https://localhost:8080/"
        },
        "outputId": "fedaa464-bf3f-48ff-bfbd-d8a43c1dad73"
      },
      "outputs": [
        {
          "output_type": "stream",
          "name": "stdout",
          "text": [
            "Best RMSE Score: 0.902723856010503\n",
            "Best Parameters: {'n_epochs': 30, 'lr_all': 0.005, 'reg_all': 0.1}\n"
          ]
        }
      ],
      "source": [
        "# Set the parameter space to tune\n",
        "\n",
        "param_grid = {\n",
        "    'n_epochs': [10, 20, 30],  # Number of iterations of the SGD algorithm\n",
        "    'lr_all': [0.002, 0.005, 0.01],  # Learning rate for all parameters\n",
        "    'reg_all': [0.02, 0.05, 0.1]  # Regularization term for all parameters\n",
        "}\n",
        "\n",
        "# Performing 3-fold gridsearch cross-validation\n",
        "grid_search = GridSearchCV(SVD, param_grid, measures=['rmse'], cv=3)\n",
        "\n",
        "# Fitting data\n",
        "\n",
        "grid_search.fit(data)\n",
        "\n",
        "# Best RMSE score\n",
        "best_rmse = grid_search.best_score['rmse']\n",
        "\n",
        "# Combination of parameters that gave the best RMSE score\n",
        "best_params = grid_search.best_params['rmse']\n",
        "\n",
        "print(\"Best RMSE Score:\", best_rmse)\n",
        "print(\"Best Parameters:\", best_params)"
      ]
    },
    {
      "cell_type": "markdown",
      "metadata": {
        "id": "KzY78HsrnVNO"
      },
      "source": [
        "Now, we will **the build final model** by using **tuned values** of the hyperparameters, which we received using grid search cross-validation above."
      ]
    },
    {
      "cell_type": "code",
      "execution_count": null,
      "metadata": {
        "id": "TA_7xe-nnhuu",
        "colab": {
          "base_uri": "https://localhost:8080/"
        },
        "outputId": "67a4f3fc-1593-49d0-af4e-95569d1b1f8d"
      },
      "outputs": [
        {
          "output_type": "stream",
          "name": "stdout",
          "text": [
            "RMSE: 0.8827\n",
            "Precision:  0.854\n",
            "Recall:  0.879\n",
            "F_1 score:  0.866\n"
          ]
        }
      ],
      "source": [
        "# Build the optimized SVD model using optimal hyperparameter search. Use random_state=1\n",
        "svd_model_optimized = SVD(n_epochs=30, lr_all=0.005, reg_all=0.1, random_state=1)\n",
        "\n",
        "# Train the algorithm on the trainset\n",
        "svd_model_optimized.fit(trainset)\n",
        "\n",
        "# Use the function precision_recall_at_k to compute precision@k, recall@k, F1-Score, and RMSE\n",
        "test_predictions = svd_model_optimized.test(testset)\n",
        "\n",
        "precision_recall_at_k(svd_model_optimized.fit(trainset), k=10, threshold=3.5)\n",
        "\n"
      ]
    },
    {
      "cell_type": "markdown",
      "metadata": {
        "id": "9HJvPsjITsny"
      },
      "source": [
        "**Observations:**"
      ]
    },
    {
      "cell_type": "markdown",
      "metadata": {
        "id": "8-KJjfeXvmBy"
      },
      "source": [
        "### **Steps:**\n",
        "- **Predict rating for the user with `userId=\"A3LDPF5FMB782Z\"`, and `prod_id= \"1400501466\"` using the optimized model**\n",
        "- **Predict rating for `userId=\"A34BZM6S9L7QI4\"` who has not interacted with `prod_id =\"1400501466\"`, by using the optimized model**\n",
        "- **Compare the output with the output from the baseline model**"
      ]
    },
    {
      "cell_type": "code",
      "execution_count": null,
      "metadata": {
        "colab": {
          "base_uri": "https://localhost:8080/"
        },
        "id": "t_22SOMBvmBy",
        "outputId": "9fafbb3e-fb00-41df-aad8-c78d17fa5eb2"
      },
      "outputs": [
        {
          "output_type": "stream",
          "name": "stdout",
          "text": [
            "Predicted Rating for User A3LDPF5FMB782Z and Product 1400501466 : 4.124483392298716\n"
          ]
        }
      ],
      "source": [
        "# Use svd_algo_optimized model to recommend for userId \"A3LDPF5FMB782Z\" and productId \"1400501466\"\n",
        "\n",
        "# Making prediction\n",
        "\n",
        "user_id = 'A3LDPF5FMB782Z'\n",
        "prod_id = '1400501466'\n",
        "\n",
        "# Predict the rating using the trained SVD model\n",
        "predicted_rating = svd_model_optimized.predict(user_id, prod_id).est\n",
        "\n",
        "print(\"Predicted Rating for User\", user_id, \"and Product\", prod_id, \":\", predicted_rating)"
      ]
    },
    {
      "cell_type": "code",
      "execution_count": null,
      "metadata": {
        "colab": {
          "base_uri": "https://localhost:8080/"
        },
        "id": "SL8Wqe1xvmBz",
        "outputId": "81fc68dc-123a-462b-a355-c4edb489e746"
      },
      "outputs": [
        {
          "output_type": "stream",
          "name": "stdout",
          "text": [
            "Predicted Rating for User A3LDPF5FMB782Z and Product 1400501466 : 4.124483392298716\n"
          ]
        }
      ],
      "source": [
        "# Use svd_algo_optimized model to recommend for userId \"A34BZM6S9L7QI4\" and productId \"1400501466\"\n",
        "\n",
        "# Making prediction\n",
        "\n",
        "user_id = 'A3LDPF5FMB782Z'\n",
        "prod_id = '1400501466'\n",
        "\n",
        "# Predict the rating using the trained SVD model\n",
        "predicted_rating = svd_model_optimized.predict(user_id, prod_id).est\n",
        "\n",
        "print(\"Predicted Rating for User\", user_id, \"and Product\", prod_id, \":\", predicted_rating)\n"
      ]
    },
    {
      "cell_type": "markdown",
      "metadata": {
        "id": "nnwPwgjB8DwS"
      },
      "source": [
        "### **Conclusion and Recommendations**"
      ]
    },
    {
      "cell_type": "markdown",
      "metadata": {
        "id": "xuqnifw9NF2p"
      },
      "source": [
        "**Write your conclusion and recommendations here**\n",
        "\n",
        "The SVD-based collaborative filtering model performed well after hyperparameter tuning. Consider using this model as it yielded the lowest RMSE\n"
      ]
    }
  ],
  "metadata": {
    "colab": {
      "provenance": []
    },
    "kernelspec": {
      "display_name": "Python 3 (ipykernel)",
      "language": "python",
      "name": "python3"
    },
    "language_info": {
      "codemirror_mode": {
        "name": "ipython",
        "version": 3
      },
      "file_extension": ".py",
      "mimetype": "text/x-python",
      "name": "python",
      "nbconvert_exporter": "python",
      "pygments_lexer": "ipython3",
      "version": "3.9.7"
    }
  },
  "nbformat": 4,
  "nbformat_minor": 0
}